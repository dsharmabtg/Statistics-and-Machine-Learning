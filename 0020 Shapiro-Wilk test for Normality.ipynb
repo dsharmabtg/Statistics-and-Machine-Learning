{
 "cells": [
  {
   "cell_type": "code",
   "execution_count": 2,
   "metadata": {},
   "outputs": [
    {
     "data": {
      "text/plain": [
       "('1.19.5', '1.1.0', '0.23.0', '0.9.0')"
      ]
     },
     "execution_count": 2,
     "metadata": {},
     "output_type": "execute_result"
    }
   ],
   "source": [
    "%matplotlib inline\n",
    "import numpy as np\n",
    "import pandas as pd\n",
    "import scipy\n",
    "import matplotlib.pyplot as plt\n",
    "import seaborn as sns\n",
    "from scipy import stats\n",
    "import statsmodels.api as sm\n",
    "import math\n",
    "from __future__ import division\n",
    "import warnings\n",
    "warnings.filterwarnings(\"ignore\")\n",
    "\n",
    "# turn of data table rendering\n",
    "pd.set_option('display.notebook_repr_html', False)\n",
    "\n",
    "sns.set_palette(['#00A99D', '#F5CA0C', '#B6129F', '#76620C', '#095C57'])\n",
    "np.version.full_version, scipy.version.full_version, pd.__version__, sm.version.full_version"
   ]
  },
  {
   "cell_type": "markdown",
   "metadata": {},
   "source": [
    "## Non-normal distribution"
   ]
  },
  {
   "cell_type": "code",
   "execution_count": 3,
   "metadata": {},
   "outputs": [
    {
     "data": {
      "text/plain": [
       "count    50.000000\n",
       "mean      2.340000\n",
       "std       1.709637\n",
       "min       0.000000\n",
       "25%       1.000000\n",
       "50%       2.000000\n",
       "75%       3.000000\n",
       "max       8.000000\n",
       "dtype: float64"
      ]
     },
     "execution_count": 3,
     "metadata": {},
     "output_type": "execute_result"
    }
   ],
   "source": [
    "# Create a set with an obvious non-normal distribution\n",
    "data = pd.Series([1,1,0,1,2,2,3,2,1,3,3,2,8,2,1,6,2,1,1,2,2,1,3,2,1,\n",
    "                  2,3,6,2,3,2,2,1,2,2,3,2,1,2,3,2,3,2,3,1,6,1,8,1,1])\n",
    "data.describe()"
   ]
  },
  {
   "cell_type": "code",
   "execution_count": 4,
   "metadata": {},
   "outputs": [
    {
     "data": {
      "image/png": "[encoded data removed]",
      "text/plain": [
       "<Figure size 432x288 with 1 Axes>"
      ]
     },
     "metadata": {},
     "output_type": "display_data"
    }
   ],
   "source": [
    "# Plot the non-normal distribution\n",
    "sns.distplot(data)\n",
    "plt.show()"
   ]
  },
  {
   "cell_type": "code",
   "execution_count": 5,
   "metadata": {},
   "outputs": [
    {
     "data": {
      "text/plain": [
       "(0.7413722276687622, 4.960041621870914e-08)"
      ]
     },
     "execution_count": 5,
     "metadata": {},
     "output_type": "execute_result"
    }
   ],
   "source": [
    "# The null hypothesis states the data was drawn from a normal distribution. \n",
    "# It returns the w-statistic and the probability that this statistic \n",
    "# came from a normal distribution (p value)\n",
    "w, p = stats.shapiro(data)\n",
    "w, p"
   ]
  },
  {
   "cell_type": "code",
   "execution_count": 6,
   "metadata": {},
   "outputs": [
    {
     "data": {
      "text/plain": [
       "False"
      ]
     },
     "execution_count": 6,
     "metadata": {},
     "output_type": "execute_result"
    }
   ],
   "source": [
    "# Test the null hypothesis with 5% alpha\n",
    "alpha = .05\n",
    "p > alpha"
   ]
  },
  {
   "cell_type": "markdown",
   "metadata": {},
   "source": [
    "Since this p value is much larger than the significance level, we reject the null hypothesis that this sample comes from a normal distribution."
   ]
  },
  {
   "cell_type": "markdown",
   "metadata": {},
   "source": [
    "## Normal distribution"
   ]
  },
  {
   "cell_type": "code",
   "execution_count": 7,
   "metadata": {},
   "outputs": [
    {
     "data": {
      "text/plain": [
       "array([-0.15211895, -0.12766334, -0.05538927, -0.05779565,  0.08115512,\n",
       "        0.02837942, -0.16480034,  0.18071286, -0.26305065, -0.07692283,\n",
       "       -0.05276255, -0.05481187,  0.01094148,  0.10387724,  0.04217897,\n",
       "       -0.04313396, -0.01605091, -0.08504778,  0.07012428, -0.20612643,\n",
       "        0.14599482, -0.01791318,  0.1600748 ,  0.04733367, -0.14672843,\n",
       "       -0.11583437, -0.01403574,  0.06933796, -0.1448912 ,  0.14841328,\n",
       "       -0.07313483, -0.0349816 ,  0.02217437,  0.03430403,  0.07521875,\n",
       "        0.07594249, -0.0274887 , -0.16151845,  0.00243694, -0.3386739 ,\n",
       "       -0.03058662,  0.00628676, -0.01785977,  0.10657838,  0.01933408,\n",
       "        0.05000436,  0.00457119, -0.00469418, -0.01844483, -0.04502305])"
      ]
     },
     "execution_count": 7,
     "metadata": {},
     "output_type": "execute_result"
    }
   ],
   "source": [
    "# Let perform the same test on a random generated normal distribution\n",
    "mu, sigma, n = 0, .1, 50\n",
    "data = np.random.normal(mu, sigma, n)\n",
    "data"
   ]
  },
  {
   "cell_type": "code",
   "execution_count": 8,
   "metadata": {},
   "outputs": [
    {
     "data": {
      "image/png": "[encoded data removed]",
      "text/plain": [
       "<Figure size 432x288 with 1 Axes>"
      ]
     },
     "metadata": {},
     "output_type": "display_data"
    }
   ],
   "source": [
    "# Plot the more 'normal' distribution\n",
    "sns.distplot(data)\n",
    "plt.show()"
   ]
  },
  {
   "cell_type": "code",
   "execution_count": 9,
   "metadata": {},
   "outputs": [
    {
     "data": {
      "text/plain": [
       "(0.9729464650154114, 0.3037617802619934)"
      ]
     },
     "execution_count": 9,
     "metadata": {},
     "output_type": "execute_result"
    }
   ],
   "source": [
    "# The Shapiro-Wilk test tests the null hypothesis that the data \n",
    "# was drawn from a normal distribution.\n",
    "w, p = stats.shapiro(data)\n",
    "w, p"
   ]
  },
  {
   "cell_type": "code",
   "execution_count": 10,
   "metadata": {},
   "outputs": [
    {
     "data": {
      "text/plain": [
       "True"
      ]
     },
     "execution_count": 10,
     "metadata": {},
     "output_type": "execute_result"
    }
   ],
   "source": [
    "# Test the null hypothesis with 5% alpha\n",
    "alpha = .05\n",
    "p > alpha"
   ]
  },
  {
   "cell_type": "markdown",
   "metadata": {},
   "source": [
    "Since this p value is much larger than the significance level, we retain the null hypothesis that this sample comes from a normal distribution."
   ]
  }
 ],
 "metadata": {
  "kernelspec": {
   "display_name": "Python 3",
   "language": "python",
   "name": "python3"
  },
  "language_info": {
   "codemirror_mode": {
    "name": "ipython",
    "version": 3
   },
   "file_extension": ".py",
   "mimetype": "text/x-python",
   "name": "python",
   "nbconvert_exporter": "python",
   "pygments_lexer": "ipython3",
   "version": "3.6.5"
  }
 },
 "nbformat": 4,
 "nbformat_minor": 1
}
