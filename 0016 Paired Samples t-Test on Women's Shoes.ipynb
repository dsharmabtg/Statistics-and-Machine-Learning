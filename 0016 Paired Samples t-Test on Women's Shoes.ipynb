{
 "cells": [
  {
   "cell_type": "code",
   "execution_count": 1,
   "metadata": {},
   "outputs": [
    {
     "data": {
      "text/plain": [
       "'1.19.5'"
      ]
     },
     "execution_count": 1,
     "metadata": {},
     "output_type": "execute_result"
    }
   ],
   "source": [
    "%matplotlib inline\n",
    "import numpy as np\n",
    "import pandas as pd\n",
    "import scipy\n",
    "import matplotlib.pyplot as plt\n",
    "import seaborn as sns\n",
    "from scipy import stats\n",
    "import math\n",
    "from __future__ import division\n",
    "import warnings\n",
    "warnings.filterwarnings(\"ignore\")\n",
    "# turn of data table rendering\n",
    "pd.set_option('display.notebook_repr_html', False)\n",
    "\n",
    "sns.set_palette(['#00A99D', '#F5CA0C', '#B6129F', '#76620C', '#095C57'])\n",
    "np.version.full_version"
   ]
  },
  {
   "cell_type": "markdown",
   "metadata": {},
   "source": [
    "## Data\n",
    "We use two samples of the same subjects, in this case a group of 19 randomly selected women walking on high heels in one sample and flat shoes in another. The samples show the number of steps taken in 30 days for each woman in the group."
   ]
  },
  {
   "cell_type": "code",
   "execution_count": 2,
   "metadata": {},
   "outputs": [
    {
     "data": {
      "text/plain": [
       "       high      flat\n",
       "0  189158.0  188777.0\n",
       "1  192110.0  196981.0\n",
       "2  176194.0  190510.0\n",
       "3  156349.0  184603.0\n",
       "4  161981.0  192341.0"
      ]
     },
     "execution_count": 2,
     "metadata": {},
     "output_type": "execute_result"
    }
   ],
   "source": [
    "high_heels = pd.Series(\n",
    "    [189158.,  192110.,  176194.,  156349.,  161981.,  152096.,\n",
    "     168058.,  156401.,  174939.,  170711.,  170485.,  150565.,\n",
    "     167770.,  157289.,  191459.,  160661.,  190667.,  184006.,  174503.])\n",
    "flat_shoes = pd.Series(\n",
    "    [188777.,  196981.,  190510.,  184603.,  192341.,  197897.,\n",
    "     154040.,  168098.,  192263.,  154085.,  176084.,  189249.,\n",
    "     176291.,  151454.,  198118.,  162959.,  167480.,  159884.,  184386.])\n",
    "\n",
    "data = pd.DataFrame({'high': high_heels, 'flat': flat_shoes})\n",
    "data.head()"
   ]
  },
  {
   "cell_type": "code",
   "execution_count": 5,
   "metadata": {},
   "outputs": [
    {
     "data": {
      "image/png": "[encoded data removed]",
      "text/plain": [
       "<Figure size 432x288 with 1 Axes>"
      ]
     },
     "metadata": {},
     "output_type": "display_data"
    }
   ],
   "source": [
    "# Let's look at the difference in a side-by-side violin plot\n",
    "sns.violinplot(data=data)\n",
    "plt.ylabel('Number of steps in 30 days')\n",
    "plt.xlabel('Kind of shoes')\n",
    "plt.show()"
   ]
  },
  {
   "cell_type": "markdown",
   "metadata": {},
   "source": [
    "Just peeking at the plot shows a higher average step frequency over the period of 30 days for the group of women wearing flat shoes. But is it a statistical significant difference?"
   ]
  },
  {
   "cell_type": "code",
   "execution_count": 6,
   "metadata": {},
   "outputs": [
    {
     "data": {
      "text/plain": [
       "                high           flat\n",
       "count      19.000000      19.000000\n",
       "mean   170810.631579  178184.210526\n",
       "std     13748.423232   16113.058647\n",
       "min    150565.000000  151454.000000\n",
       "25%    158975.000000  165219.500000\n",
       "50%    170485.000000  184386.000000\n",
       "75%    180100.000000  191386.500000\n",
       "max    192110.000000  198118.000000"
      ]
     },
     "execution_count": 6,
     "metadata": {},
     "output_type": "execute_result"
    }
   ],
   "source": [
    "# The violin plot above shows the median, quartiles, IQR and \n",
    "# probability density function (kernel density estimation) \n",
    "# for both groups\n",
    "data.describe()"
   ]
  },
  {
   "cell_type": "markdown",
   "metadata": {},
   "source": [
    "## Hypothesis\n",
    "We want to know if there is a significant difference in the mean steps taken in 30 days for women wearing high heels and the same group wearing flat shoes. While walking on high heels, the women scored a mean average of $\\bar{x}_h=170810.63$. On flat shoes the mean average is $\\bar{x}_f=178184.21$ We choose as our test criterium an alpha level of 5%. So our hypothesis states:\n",
    "\n",
    "|Hypothesis||$\\alpha = .05$|\n",
    "|---:|:---:|---|:---|\n",
    "|$H_0:$|$\\mu_h = \\mu_f$|There is no significant difference in mean steps between groups|\n",
    "|$H_a:$|$\\mu_h \\neq \\mu_f$|There is a significant difference in mean steps between groups|\n",
    "\n",
    "Note that the hypothesis is written to denote the whole population, not just the sample."
   ]
  },
  {
   "cell_type": "code",
   "execution_count": 7,
   "metadata": {},
   "outputs": [
    {
     "data": {
      "text/plain": [
       "       high      flat  difference\n",
       "0  189158.0  188777.0       381.0\n",
       "1  192110.0  196981.0     -4871.0\n",
       "2  176194.0  190510.0    -14316.0\n",
       "3  156349.0  184603.0    -28254.0\n",
       "4  161981.0  192341.0    -30360.0"
      ]
     },
     "execution_count": 7,
     "metadata": {},
     "output_type": "execute_result"
    }
   ],
   "source": [
    "# Take the difference of each subject\n",
    "data['difference'] = data.high - data.flat\n",
    "data.head()"
   ]
  },
  {
   "cell_type": "markdown",
   "metadata": {},
   "source": [
    "## Conduct a t-Test for dependent means\n",
    "All steps below are actually the same as for a one sample t-test conducted on a sample of mean differences."
   ]
  },
  {
   "cell_type": "code",
   "execution_count": 8,
   "metadata": {},
   "outputs": [
    {
     "data": {
      "text/plain": [
       "-7373.578947368421"
      ]
     },
     "execution_count": 8,
     "metadata": {},
     "output_type": "execute_result"
    }
   ],
   "source": [
    "# Calculate the point estimate (mean difference)\n",
    "point_estimate = data['difference'].mean()\n",
    "point_estimate"
   ]
  },
  {
   "cell_type": "code",
   "execution_count": 9,
   "metadata": {},
   "outputs": [
    {
     "data": {
      "text/plain": [
       "19471.738275755768"
      ]
     },
     "execution_count": 9,
     "metadata": {},
     "output_type": "execute_result"
    }
   ],
   "source": [
    "# Calculate the sample standard deviation of the difference\n",
    "s = data.difference.std()\n",
    "s"
   ]
  },
  {
   "cell_type": "code",
   "execution_count": 10,
   "metadata": {},
   "outputs": [
    {
     "data": {
      "image/png": "[encoded data removed]",
      "text/plain": [
       "<Figure size 432x288 with 1 Axes>"
      ]
     },
     "metadata": {},
     "output_type": "display_data"
    }
   ],
   "source": [
    "# Show the mean difference distribution\n",
    "sns.distplot(data.difference, label='mean difference')\n",
    "plt.legend()\n",
    "plt.show()"
   ]
  },
  {
   "cell_type": "code",
   "execution_count": 11,
   "metadata": {},
   "outputs": [
    {
     "data": {
      "text/plain": [
       "(19, 4467.123126268016, -1.6506325746898667)"
      ]
     },
     "execution_count": 11,
     "metadata": {},
     "output_type": "execute_result"
    }
   ],
   "source": [
    "# Calculate the t-statistic with the point estimate\n",
    "n = data.high.count() # the same for both samples\n",
    "se = s / math.sqrt(n) # standard error\n",
    "t = point_estimate / se\n",
    "n, se, t"
   ]
  },
  {
   "cell_type": "code",
   "execution_count": 12,
   "metadata": {},
   "outputs": [
    {
     "data": {
      "text/plain": [
       "0.11615318918022235"
      ]
     },
     "execution_count": 12,
     "metadata": {},
     "output_type": "execute_result"
    }
   ],
   "source": [
    "# So what is the probability of getting this mean difference?\n",
    "dof = n - 1\n",
    "p = stats.t.sf(abs(t), dof) * 2 # two sided\n",
    "p"
   ]
  },
  {
   "cell_type": "code",
   "execution_count": 13,
   "metadata": {},
   "outputs": [
    {
     "data": {
      "text/plain": [
       "False"
      ]
     },
     "execution_count": 13,
     "metadata": {},
     "output_type": "execute_result"
    }
   ],
   "source": [
    "# To test our alternative hypothesis\n",
    "alpha = .05\n",
    "p < alpha / 2 # two sided"
   ]
  },
  {
   "cell_type": "markdown",
   "metadata": {},
   "source": [
    "We fail to reject the null. There is no statistical significant difference in the mean differences between steps taken on high heels or flat shoes."
   ]
  },
  {
   "cell_type": "code",
   "execution_count": 14,
   "metadata": {},
   "outputs": [
    {
     "data": {
      "text/plain": [
       "(-1.6506325746898667, 0.11615318918022235)"
      ]
     },
     "execution_count": 14,
     "metadata": {},
     "output_type": "execute_result"
    }
   ],
   "source": [
    "# A quicker way to perform a dependent t-test is to call the scipy\n",
    "# function ttest_rel on both samples to get our t-statistic and \n",
    "# p value\n",
    "t_statistic, p = stats.ttest_rel(data.high, data.flat)\n",
    "t_statistic, p"
   ]
  },
  {
   "cell_type": "markdown",
   "metadata": {},
   "source": [
    "## Confidence interval"
   ]
  },
  {
   "cell_type": "code",
   "execution_count": 15,
   "metadata": {},
   "outputs": [
    {
     "data": {
      "text/plain": [
       "2.10092204024096"
      ]
     },
     "execution_count": 15,
     "metadata": {},
     "output_type": "execute_result"
    }
   ],
   "source": [
    "# Calculate t-critical to use with our confidence interval\n",
    "t_critical = abs(stats.t.ppf(alpha / 2, dof)) # two sided\n",
    "t_critical"
   ]
  },
  {
   "cell_type": "code",
   "execution_count": 16,
   "metadata": {},
   "outputs": [
    {
     "data": {
      "text/plain": [
       "(-16758.656379815, 2011.4984850781557)"
      ]
     },
     "execution_count": 16,
     "metadata": {},
     "output_type": "execute_result"
    }
   ],
   "source": [
    "# Calculate the confidence interval\n",
    "margin_of_error = se * t_critical\n",
    "CI_lo = point_estimate - margin_of_error\n",
    "CI_hi = point_estimate + margin_of_error\n",
    "CI_lo, CI_hi"
   ]
  },
  {
   "cell_type": "markdown",
   "metadata": {},
   "source": [
    "We are confident that the true mean difference lies somewhere between -16758 and 2011. This confidence interval crosses 0, so a true mean difference could be 0 (meaning no difference at all)."
   ]
  }
 ],
 "metadata": {
  "kernelspec": {
   "display_name": "Python 3",
   "language": "python",
   "name": "python3"
  },
  "language_info": {
   "codemirror_mode": {
    "name": "ipython",
    "version": 3
   },
   "file_extension": ".py",
   "mimetype": "text/x-python",
   "name": "python",
   "nbconvert_exporter": "python",
   "pygments_lexer": "ipython3",
   "version": "3.6.5"
  }
 },
 "nbformat": 4,
 "nbformat_minor": 1
}
