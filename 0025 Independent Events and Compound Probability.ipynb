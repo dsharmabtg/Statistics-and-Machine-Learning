{
 "cells": [
  {
   "cell_type": "code",
   "execution_count": 1,
   "metadata": {},
   "outputs": [
    {
     "data": {
      "text/plain": [
       "'3.6.5 |Anaconda, Inc.| (default, Mar 29 2018, 13:32:41) [MSC v.1900 64 bit (AMD64)]'"
      ]
     },
     "execution_count": 1,
     "metadata": {},
     "output_type": "execute_result"
    }
   ],
   "source": [
    "%matplotlib inline\n",
    "import sys\n",
    "import matplotlib.pyplot as plt\n",
    "from matplotlib_venn import venn2\n",
    "from __future__ import print_function\n",
    "import warnings\n",
    "warnings.filterwarnings(\"ignore\")\n",
    "sys.version"
   ]
  },
  {
   "cell_type": "markdown",
   "metadata": {},
   "source": [
    "## Probability of Independent Events\n",
    "First an exploration of independent events. This is where one event doesn't effect the other. If we flip a fair coin, te probability that the comes up heads or tails is for both 50%. Simply by intuition we know:\n",
    "\n",
    "$$\n",
    "P(Heads)=0.5\\\\\n",
    "P(Tails)=0.5\n",
    "$$\n",
    "\n",
    "If we flip a biased (loaded, unfair) coin, the odds change. Let's say we have a coin that comes up tails 75% of the time.\n",
    "\n",
    "$$\n",
    "P(T)=0.75\\\\\n",
    "P(H)=1.0-0.75=0.25\n",
    "$$\n",
    "\n",
    "This leads to a basic probability law that the probability of $A$ happening is equal to the probability of $1$ minus $A$ *not* happening, or $A'$ which is called the complement of $A$.\n",
    "\n",
    "$$\n",
    "P(A)=1.0-P(A')\n",
    "$$\n"
   ]
  },
  {
   "cell_type": "code",
   "execution_count": 2,
   "metadata": {},
   "outputs": [
    {
     "data": {
      "text/plain": [
       "0.25"
      ]
     },
     "execution_count": 2,
     "metadata": {},
     "output_type": "execute_result"
    }
   ],
   "source": [
    "# Calculate the complement (where x is in the domain [0, 1])\n",
    "p_complement = lambda x: 1.0 - x\n",
    "p_complement(0.75)"
   ]
  },
  {
   "cell_type": "markdown",
   "metadata": {},
   "source": [
    "### Mutual Exclusive Events\n",
    "We call two events mutual exclusive or disjoint when they can't occur at the same time (flipping heads and tails with one coin). When A and B are disjoint, the probability of this happening is zero.\n",
    "\n",
    "$$\n",
    "P(A\\cap B)=0\n",
    "$$\n"
   ]
  },
  {
   "cell_type": "markdown",
   "metadata": {},
   "source": [
    "## Intersection\n",
    "If we are looking at the intersection ('and', $\\cap$) between two independent events, we multiply their respective probabilities to get the combined probabaility. Let's say we flip the same fair coin twice, then each of the four possible outcomes are equaly likely. The probability of flipping heads twice (heads *and* heads):\n",
    "\n",
    "$$\n",
    "P(H\\cap H)=P(H)\\cdot P(H)=0.5\\cdot0.5=0.25\n",
    "$$\n",
    "\n",
    "What if we flipped a biased coin twice with a probability of 65% landing on tails. What is the probability that we flip heads twice in a row.\n",
    "\n",
    "$$\n",
    "P(H\\cap H)=P(H)\\cdot P(H)=0.35\\cdot0.35=0.1225\n",
    "$$\n",
    "\n",
    "\n",
    "### Multiplication Rule\n",
    "The specific multiplication rule for *independent* and *dependent* events can be generalized as follows.\n",
    "\n",
    "$$\n",
    "P(A\\cap B)=P(B\\ |\\ A)\\cdot P(A)\n",
    "$$"
   ]
  },
  {
   "cell_type": "code",
   "execution_count": 3,
   "metadata": {},
   "outputs": [
    {
     "data": {
      "image/png": "[encoded data removed]",
      "text/plain": [
       "<Figure size 432x288 with 1 Axes>"
      ]
     },
     "metadata": {},
     "output_type": "display_data"
    }
   ],
   "source": [
    "# Intersection / And\n",
    "v = venn2(subsets=(1, 1, 0.2), \n",
    "          set_labels=('',''), set_colors=('k', 'k'))\n",
    "v.get_patch_by_id('10').set_color('silver')\n",
    "v.get_patch_by_id('01').set_color('silver')\n",
    "v.get_label_by_id('10').set_text('')\n",
    "v.get_label_by_id('01').set_text('')\n",
    "v.get_label_by_id('11').set_text('A$\\cap$B')\n",
    "plt.show()"
   ]
  },
  {
   "cell_type": "code",
   "execution_count": null,
   "metadata": {},
   "outputs": [],
   "source": [
    "# Specific multiplication rule for independent events\n",
    "p_and = lambda a, b: a * b\n",
    "p_and(0.35, 0.35)"
   ]
  },
  {
   "cell_type": "markdown",
   "metadata": {},
   "source": [
    "## Union\n",
    "If we need a union ('or', $\\cup$) of one or more possible outcomes, we add their respective probabilities to arrive ad the combined probability. For instance; we flip a biased coin, with a 55% chance of heads, three times. What is the probability that we get heads only once? First we need to know what the probability of the combination head, tails and tails for a single event. Since we flip three times, we need to add all the different possibilities of flipping heads ones (HTT, HTH, HHT):\n",
    "\n",
    "$$\n",
    "P(H,T,T)=P(H)\\cdot P(T)\\cdot P(T)\\\\\n",
    "0.55\\cdot0.45\\cdot0.45=0.1114\n",
    "$$\n",
    "\n",
    "Now we still need to add up all the three possible outcomes of flipping heads ones \n",
    "\n",
    "$$\n",
    "P(HTT\\cup HTH\\cup HHT)\n",
    "$$\n",
    "\n",
    "These all have the same probability of $0.1114$:\n",
    "\n",
    "$$\n",
    "0.1114+0.1114+0.1114=0.3341\n",
    "$$\n"
   ]
  },
  {
   "cell_type": "markdown",
   "metadata": {},
   "source": [
    "### Addition Rule\n",
    "The union of **mutual exclusive** events can be generalized as follows:\n",
    "\n",
    "$$\n",
    "P(A\\cup B)=P(A)+P(B)\n",
    "$$\n",
    "\n",
    "If we account for overlap (not mutual exclusive) we must subtract one probability of A and B or else it would be added twice. The general form becomes:\n",
    "\n",
    "$$\n",
    "P(A\\cup B)=P(A)+P(B)-P(A\\cap B)\n",
    "$$"
   ]
  },
  {
   "cell_type": "code",
   "execution_count": null,
   "metadata": {},
   "outputs": [],
   "source": [
    "# Union / Or with overlap\n",
    "v = venn2(subsets=(1, 1, 0.2), \n",
    "          set_labels=('',''), set_colors=('k', 'k'))\n",
    "v.get_patch_by_id('10').set_color('k')\n",
    "v.get_patch_by_id('01').set_color('k')\n",
    "v.get_label_by_id('10').set_text('')\n",
    "v.get_label_by_id('01').set_text('')\n",
    "v.get_label_by_id('11').set_text('A$\\cup$B')\n",
    "plt.show()"
   ]
  }
 ],
 "metadata": {
  "kernelspec": {
   "display_name": "Python 3",
   "language": "python",
   "name": "python3"
  },
  "language_info": {
   "codemirror_mode": {
    "name": "ipython",
    "version": 3
   },
   "file_extension": ".py",
   "mimetype": "text/x-python",
   "name": "python",
   "nbconvert_exporter": "python",
   "pygments_lexer": "ipython3",
   "version": "3.6.5"
  }
 },
 "nbformat": 4,
 "nbformat_minor": 1
}
