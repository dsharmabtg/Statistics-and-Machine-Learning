{
 "cells": [
  {
   "cell_type": "code",
   "execution_count": 2,
   "metadata": {},
   "outputs": [
    {
     "data": {
      "text/plain": [
       "'1.19.5'"
      ]
     },
     "execution_count": 2,
     "metadata": {},
     "output_type": "execute_result"
    }
   ],
   "source": [
    "%matplotlib inline\n",
    "import numpy as np\n",
    "import pandas as pd\n",
    "import scipy\n",
    "import matplotlib.pyplot as plt\n",
    "import seaborn as sns\n",
    "from scipy import stats\n",
    "import math\n",
    "from __future__ import division\n",
    "import warnings\n",
    "warnings.filterwarnings(\"ignore\")\n",
    "\n",
    "# turn of data table rendering\n",
    "pd.set_option('display.notebook_repr_html', False)\n",
    "\n",
    "sns.set_palette(['#00A99D', '#F5CA0C', '#B6129F', '#76620C', '#095C57'])\n",
    "np.version.full_version"
   ]
  },
  {
   "cell_type": "markdown",
   "metadata": {},
   "source": [
    "## Data\n",
    "We use a random sample of social media influence scores from the service [Klout.com](http://klout.com/ \"Klout scores\") as presented in Udacity's [Intro to Inferential Statistics](https://www.udacity.com/course/ud201). Of a population of 620+ milion scores we got a sample size $n=1048$."
   ]
  },
  {
   "cell_type": "code",
   "execution_count": 3,
   "metadata": {},
   "outputs": [
    {
     "data": {
      "text/plain": [
       "      scores\n",
       "0  25.104179\n",
       "1  60.908747\n",
       "2  23.222238\n",
       "3  51.553491\n",
       "4  22.629690"
      ]
     },
     "execution_count": 3,
     "metadata": {},
     "output_type": "execute_result"
    }
   ],
   "source": [
    "# Load the data from a csv file\n",
    "data = pd.read_csv('data/klout-scores.csv', header=None, names=['scores'])\n",
    "data.head()"
   ]
  },
  {
   "cell_type": "code",
   "execution_count": 4,
   "metadata": {},
   "outputs": [
    {
     "data": {
      "image/png": "[encoded data removed]",
      "text/plain": [
       "<Figure size 432x288 with 1 Axes>"
      ]
     },
     "metadata": {},
     "output_type": "display_data"
    }
   ],
   "source": [
    "# Plot the sample and note the bimodal distribution shape\n",
    "# The first peak are social media consumers, second peak influencers\n",
    "p=sns.distplot(data.scores)"
   ]
  },
  {
   "cell_type": "code",
   "execution_count": 5,
   "metadata": {},
   "outputs": [],
   "source": [
    "# Sample size\n",
    "n = data.scores.count()\n",
    "\n",
    "# The confidence coefficient\n",
    "confidence_coef = .95\n",
    "\n",
    "# The alpha level\n",
    "alpha = 1. - confidence_coef"
   ]
  },
  {
   "cell_type": "markdown",
   "metadata": {},
   "source": [
    "## Confidence Interval\n",
    "If we want to estimate a population parameter (mean, proportion, standard deviation) from a sample statistic, we can never be sure of our outcome. But we can give some level of confidence of our prediction; the confidence interval (CI). We use the following symbols to depict parameters and statistics.\n",
    "\n",
    "|   |mean|proportion|std dev|   |\n",
    "|---|:---:|:---:|:---:|---|\n",
    "|population|$\\mu$|$p$|$\\sigma$|parameters|\n",
    "|sample|$\\bar{x}$|$\\hat{p}$|$s$|statistics|\n",
    "\n",
    "Let's calculate 95% the confidence interval of the sample mean of Klout Scores. For large samples we can solve the following inequality with an alpha level of $\\alpha=.05$.\n",
    "\n",
    "$$\\bar{x}-z_{\\alpha/2}\\cdot\\frac{\\sigma}{\\sqrt{n}}\\lt\\mu_{estimator}\\lt\\bar{x}+z_{\\alpha/2}\\cdot\\frac{\\sigma}{\\sqrt{n}}$$ "
   ]
  },
  {
   "cell_type": "code",
   "execution_count": 6,
   "metadata": {},
   "outputs": [
    {
     "data": {
      "text/plain": [
       "37.719054832538156"
      ]
     },
     "execution_count": 6,
     "metadata": {},
     "output_type": "execute_result"
    }
   ],
   "source": [
    "# First we need our sample mean\n",
    "# This is called the point estimate\n",
    "klout_xbar = data.scores.mean()\n",
    "klout_xbar"
   ]
  },
  {
   "cell_type": "code",
   "execution_count": 7,
   "metadata": {},
   "outputs": [
    {
     "data": {
      "text/plain": [
       "16.04431497904899"
      ]
     },
     "execution_count": 7,
     "metadata": {},
     "output_type": "execute_result"
    }
   ],
   "source": [
    "# We also need the standard error of the sample\n",
    "# Since our sample size is large (> 30) we can use\n",
    "# the sample standard deviation as an approximation of sigma\n",
    "klout_s = data.scores.std()\n",
    "klout_s"
   ]
  },
  {
   "cell_type": "code",
   "execution_count": 8,
   "metadata": {},
   "outputs": [
    {
     "data": {
      "text/plain": [
       "1.959963984540054"
      ]
     },
     "execution_count": 8,
     "metadata": {},
     "output_type": "execute_result"
    }
   ],
   "source": [
    "# The we need to find the z score to calculate the\n",
    "# lower and upper bound of our confidence interval\n",
    "# This is called the critical value\n",
    "critical_value = stats.norm.ppf(alpha / 2) * -1.\n",
    "critical_value"
   ]
  },
  {
   "cell_type": "code",
   "execution_count": 9,
   "metadata": {},
   "outputs": [
    {
     "data": {
      "text/plain": [
       "(-1.959963984540054, 1.959963984540054)"
      ]
     },
     "execution_count": 9,
     "metadata": {},
     "output_type": "execute_result"
    }
   ],
   "source": [
    "# An easier way to get the critical values calling scipy.stats\n",
    "# interval function. The alpha .95 being a littbe bit misleading since\n",
    "# it is not our alpha but our confidence coefficient\n",
    "zscore_interval = stats.norm.interval(alpha=confidence_coef)\n",
    "zscore_interval"
   ]
  },
  {
   "cell_type": "code",
   "execution_count": 10,
   "metadata": {},
   "outputs": [
    {
     "data": {
      "text/plain": [
       "0.49561054484656264"
      ]
     },
     "execution_count": 10,
     "metadata": {},
     "output_type": "execute_result"
    }
   ],
   "source": [
    "# We need the standard error to calculate the bounds\n",
    "klout_SE = klout_s / math.sqrt(n)\n",
    "klout_SE"
   ]
  },
  {
   "cell_type": "code",
   "execution_count": 11,
   "metadata": {},
   "outputs": [
    {
     "data": {
      "text/plain": [
       "(36.74767601428062, 38.69043365079569)"
      ]
     },
     "execution_count": 11,
     "metadata": {},
     "output_type": "execute_result"
    }
   ],
   "source": [
    "# Calculate the lower and upper bound Klout Score \n",
    "# for the confidence interval\n",
    "klout_CI_mean_lower = klout_xbar - critical_value * klout_SE\n",
    "klout_CI_mean_upper = klout_xbar + critical_value * klout_SE\n",
    "klout_CI_mean_lower, klout_CI_mean_upper"
   ]
  },
  {
   "cell_type": "markdown",
   "metadata": {},
   "source": [
    "## So what does it all mean?\n",
    "A confidence interval is a 'parameter catcher'. In this case we try to catch the real population mean from a sample by declaring a confidence interval. This mean we are 95% sure that the real population mean of Klout Scores lies somewhere fixed between 36.75 and 38.69.\n",
    "\n",
    "Klout.com states their mean score is 40, so we did not catch the true population mean parameter. Since our calculations seems to be correct, this could mean that:\n",
    "- Maybe our sample mean falls way below the population mean. Note we we're only 95% confident.\n",
    "- Maybe Klout's communication on the average score is simplified to an easy to remember value of 40."
   ]
  },
  {
   "cell_type": "markdown",
   "metadata": {},
   "source": [
    "## The effect of sample size\n",
    "Sample size effects the bounds of the confidence interval. The smaller the sample, the less confident we are, so the wider the confidence interval. Let's try this with a random sample from the Klout Score data of $n=50$."
   ]
  },
  {
   "cell_type": "code",
   "execution_count": 12,
   "metadata": {},
   "outputs": [
    {
     "data": {
      "text/plain": [
       "        scores\n",
       "444  28.714885\n",
       "359  44.466343\n",
       "432  49.333440\n",
       "610  41.792784\n",
       "458  40.946369"
      ]
     },
     "execution_count": 12,
     "metadata": {},
     "output_type": "execute_result"
    }
   ],
   "source": [
    "# Let's create a sample of 50 random Klout Scores\n",
    "n_50 = 50\n",
    "data_50 = data.ix[np.random.choice(data.index, n_50)]\n",
    "data_50.head()"
   ]
  },
  {
   "cell_type": "code",
   "execution_count": 13,
   "metadata": {},
   "outputs": [
    {
     "data": {
      "image/png": "[encoded data removed]",
      "text/plain": [
       "<Figure size 432x288 with 1 Axes>"
      ]
     },
     "metadata": {},
     "output_type": "display_data"
    }
   ],
   "source": [
    "# Plot the sample and note a similar bimodal distribution shape\n",
    "p=sns.distplot(data_50.scores)"
   ]
  },
  {
   "cell_type": "code",
   "execution_count": 14,
   "metadata": {},
   "outputs": [
    {
     "data": {
      "text/plain": [
       "35.268243085799995"
      ]
     },
     "execution_count": 14,
     "metadata": {},
     "output_type": "execute_result"
    }
   ],
   "source": [
    "# Get the point estimate\n",
    "klout_50_xbar = data_50.scores.mean()\n",
    "klout_50_xbar"
   ]
  },
  {
   "cell_type": "code",
   "execution_count": 15,
   "metadata": {},
   "outputs": [
    {
     "data": {
      "text/plain": [
       "15.948643314321888"
      ]
     },
     "execution_count": 15,
     "metadata": {},
     "output_type": "execute_result"
    }
   ],
   "source": [
    "# Get the sample standard deviation as an approximation of sigma\n",
    "klout_50_s = data_50.scores.std()\n",
    "klout_50_s"
   ]
  },
  {
   "cell_type": "code",
   "execution_count": 16,
   "metadata": {},
   "outputs": [
    {
     "data": {
      "text/plain": [
       "2.2554787676565002"
      ]
     },
     "execution_count": 16,
     "metadata": {},
     "output_type": "execute_result"
    }
   ],
   "source": [
    "# Calculate the standard error for this sample size\n",
    "klout_50_SE = klout_50_s / math.sqrt(n_50)\n",
    "klout_50_SE"
   ]
  },
  {
   "cell_type": "code",
   "execution_count": 16,
   "metadata": {},
   "outputs": [
    {
     "data": {
      "text/plain": [
       "(36.573167829724937, 45.187553083475066)"
      ]
     },
     "execution_count": 16,
     "metadata": {},
     "output_type": "execute_result"
    }
   ],
   "source": [
    "# Calculate the lower and upper bound Klout Score \n",
    "# for the confidence interval of our sample of n=50\n",
    "klout_50_CI_mean_lower = klout_50_xbar - critical_value * klout_50_SE\n",
    "klout_50_CI_mean_upper = klout_50_xbar + critical_value * klout_50_SE\n",
    "klout_50_CI_mean_lower, klout_50_CI_mean_upper"
   ]
  },
  {
   "cell_type": "markdown",
   "metadata": {},
   "source": [
    "With this sample size, we are 95% sure that the population mean lies within the range of *klout_50_CI_mean_lower* to *klout_50_CI_mean_upper*. Although this confidence interval does catch the mean parameter, it has also a much wider range. "
   ]
  }
 ],
 "metadata": {
  "kernelspec": {
   "display_name": "Python 3",
   "language": "python",
   "name": "python3"
  },
  "language_info": {
   "codemirror_mode": {
    "name": "ipython",
    "version": 3
   },
   "file_extension": ".py",
   "mimetype": "text/x-python",
   "name": "python",
   "nbconvert_exporter": "python",
   "pygments_lexer": "ipython3",
   "version": "3.6.5"
  }
 },
 "nbformat": 4,
 "nbformat_minor": 1
}
