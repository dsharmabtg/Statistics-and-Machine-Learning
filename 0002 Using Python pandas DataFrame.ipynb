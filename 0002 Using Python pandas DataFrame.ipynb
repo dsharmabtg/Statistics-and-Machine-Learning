{
 "cells": [
  {
   "cell_type": "markdown",
   "metadata": {},
   "source": [
    "## Setup"
   ]
  },
  {
   "cell_type": "code",
   "execution_count": 1,
   "metadata": {},
   "outputs": [],
   "source": [
    "import pandas as pd\n",
    "import numpy as np\n",
    "import datetime\n",
    "\n",
    "# turn of data table rendering (of the 90s)\n",
    "pd.set_option('display.notebook_repr_html', False)   "
   ]
  },
  {
   "cell_type": "markdown",
   "metadata": {},
   "source": [
    "## Creating a DataFrame"
   ]
  },
  {
   "cell_type": "code",
   "execution_count": 2,
   "metadata": {},
   "outputs": [
    {
     "data": {
      "text/plain": [
       "    Randnum  IsBool    Name\n",
       "0  0.177730    True   Apple\n",
       "1  0.136812    True  Banana\n",
       "2  0.330615   False  Tomato\n",
       "3 -1.694660    True    Bean\n",
       "4 -0.471962   False    Rice"
      ]
     },
     "execution_count": 2,
     "metadata": {},
     "output_type": "execute_result"
    }
   ],
   "source": [
    "# Collection of data columns\n",
    "s1 = np.random.randn(5)\n",
    "s2 = [True, True, False, True, False]\n",
    "s3 = ['Apple', 'Banana', 'Tomato', 'Bean', 'Rice']\n",
    "\n",
    "# Dict with added column names\n",
    "data = {'Randnum': s1, 'IsBool': s2, 'Name': s3}\n",
    "df = pd.DataFrame(data)\n",
    "df"
   ]
  },
  {
   "cell_type": "code",
   "execution_count": 4,
   "metadata": {},
   "outputs": [
    {
     "name": "stdout",
     "output_type": "stream",
     "text": [
      "RangeIndex(start=0, stop=5, step=1)\n",
      "Index(['Randnum', 'IsBool', 'Name'], dtype='object')\n"
     ]
    }
   ],
   "source": [
    "print(df.index)\n",
    "print(df.columns)"
   ]
  },
  {
   "cell_type": "code",
   "execution_count": 5,
   "metadata": {},
   "outputs": [
    {
     "data": {
      "text/plain": [
       "    Randnum  IsBool    Name  New\n",
       "0  0.177730    True   Apple  127\n",
       "1  0.136812    True  Banana  127\n",
       "2  0.330615   False  Tomato  127\n",
       "3 -1.694660    True    Bean  127\n",
       "4 -0.471962   False    Rice  127"
      ]
     },
     "execution_count": 5,
     "metadata": {},
     "output_type": "execute_result"
    }
   ],
   "source": [
    "# Create a new column and assign it all 127\n",
    "df['New'] = 127\n",
    "df"
   ]
  },
  {
   "cell_type": "markdown",
   "metadata": {},
   "source": [
    "## Data retrieval"
   ]
  },
  {
   "cell_type": "code",
   "execution_count": 6,
   "metadata": {},
   "outputs": [
    {
     "data": {
      "text/plain": [
       "0    0.177730\n",
       "1    0.136812\n",
       "2    0.330615\n",
       "3   -1.694660\n",
       "4   -0.471962\n",
       "Name: Randnum, dtype: float64"
      ]
     },
     "execution_count": 6,
     "metadata": {},
     "output_type": "execute_result"
    }
   ],
   "source": [
    "# Select the Randnum column\n",
    "df.Randnum"
   ]
  },
  {
   "cell_type": "code",
   "execution_count": 7,
   "metadata": {},
   "outputs": [
    {
     "data": {
      "text/plain": [
       "    Randnum  IsBool    Name  New\n",
       "0  0.177730    True   Apple  127\n",
       "1  0.136812    True  Banana  127\n",
       "2  0.330615   False  Tomato  127"
      ]
     },
     "execution_count": 7,
     "metadata": {},
     "output_type": "execute_result"
    }
   ],
   "source": [
    "# Select the first three rows\n",
    "df[:3]"
   ]
  },
  {
   "cell_type": "code",
   "execution_count": 9,
   "metadata": {},
   "outputs": [
    {
     "data": {
      "text/plain": [
       "Randnum    0.136812\n",
       "IsBool         True\n",
       "Name         Banana\n",
       "New             127\n",
       "Name: 1, dtype: object"
      ]
     },
     "execution_count": 9,
     "metadata": {},
     "output_type": "execute_result"
    }
   ],
   "source": [
    "# Select the second row\n",
    "df.iloc[1]"
   ]
  },
  {
   "cell_type": "code",
   "execution_count": 15,
   "metadata": {},
   "outputs": [
    {
     "name": "stdout",
     "output_type": "stream",
     "text": [
      "Banana\n",
      "Name    Banana\n",
      "New        127\n",
      "Name: 1, dtype: object\n"
     ]
    }
   ],
   "source": [
    "# Select the Randnum value of the second row\n",
    "print(df.iloc[1, 2]) # or\n",
    "print(df.iloc[1, [2,3]])"
   ]
  },
  {
   "cell_type": "code",
   "execution_count": 19,
   "metadata": {},
   "outputs": [
    {
     "name": "stderr",
     "output_type": "stream",
     "text": [
      "C:\\Users\\Dell\\Anaconda3_6\\lib\\site-packages\\ipykernel_launcher.py:2: FutureWarning: \n",
      "Passing list-likes to .loc or [] with any missing label will raise\n",
      "KeyError in the future, you can use .reindex() as an alternative.\n",
      "\n",
      "See the documentation here:\n",
      "https://pandas.pydata.org/pandas-docs/stable/indexing.html#deprecate-loc-reindex-listlike\n",
      "  \n"
     ]
    },
    {
     "data": {
      "text/plain": [
       "     Name   Randnum  Unknown\n",
       "0   Apple  0.177730      NaN\n",
       "2  Tomato  0.330615      NaN\n",
       "6     NaN       NaN      NaN"
      ]
     },
     "execution_count": 19,
     "metadata": {},
     "output_type": "execute_result"
    }
   ],
   "source": [
    "# Selecting specific rows and columns\n",
    "df.loc[[0, 2, 6], ['Name', 'Randnum', 'Unknown']]"
   ]
  },
  {
   "cell_type": "markdown",
   "metadata": {},
   "source": [
    "## Conditions"
   ]
  },
  {
   "cell_type": "code",
   "execution_count": 20,
   "metadata": {},
   "outputs": [
    {
     "data": {
      "text/plain": [
       "0    False\n",
       "1    False\n",
       "2    False\n",
       "3     True\n",
       "4     True\n",
       "Name: Randnum, dtype: bool"
      ]
     },
     "execution_count": 20,
     "metadata": {},
     "output_type": "execute_result"
    }
   ],
   "source": [
    "# Retrieve boolean Series, True if Randnum is smaller than zero\n",
    "belowzero = df.Randnum < 0\n",
    "belowzero"
   ]
  },
  {
   "cell_type": "code",
   "execution_count": 21,
   "metadata": {},
   "outputs": [
    {
     "data": {
      "text/plain": [
       "    Randnum  IsBool  Name  New\n",
       "3 -1.694660    True  Bean  127\n",
       "4 -0.471962   False  Rice  127"
      ]
     },
     "execution_count": 21,
     "metadata": {},
     "output_type": "execute_result"
    }
   ],
   "source": [
    "# Selects all rows meeting the belowzero condition\n",
    "df[belowzero]"
   ]
  },
  {
   "cell_type": "code",
   "execution_count": 22,
   "metadata": {},
   "outputs": [
    {
     "data": {
      "text/plain": [
       "0     True\n",
       "1    False\n",
       "2    False\n",
       "3    False\n",
       "4    False\n",
       "Name: Name, dtype: bool"
      ]
     },
     "execution_count": 22,
     "metadata": {},
     "output_type": "execute_result"
    }
   ],
   "source": [
    "# Retrieve boolean Series, True if Randnum is smaller than zero\n",
    "isapple = df['Name'] == 'Apple'\n",
    "isapple"
   ]
  },
  {
   "cell_type": "code",
   "execution_count": 23,
   "metadata": {},
   "outputs": [
    {
     "data": {
      "text/plain": [
       "Empty DataFrame\n",
       "Columns: [Randnum, IsBool, Name, New]\n",
       "Index: []"
      ]
     },
     "execution_count": 23,
     "metadata": {},
     "output_type": "execute_result"
    }
   ],
   "source": [
    "# Select belowzero AND isapple conditions\n",
    "df[belowzero & isapple]"
   ]
  },
  {
   "cell_type": "code",
   "execution_count": 24,
   "metadata": {},
   "outputs": [
    {
     "data": {
      "text/plain": [
       "    Randnum  IsBool   Name  New\n",
       "0  0.177730    True  Apple  127\n",
       "3 -1.694660    True   Bean  127\n",
       "4 -0.471962   False   Rice  127"
      ]
     },
     "execution_count": 24,
     "metadata": {},
     "output_type": "execute_result"
    }
   ],
   "source": [
    "# Select belowzero OR isapple conditions\n",
    "df[belowzero | isapple]"
   ]
  },
  {
   "cell_type": "markdown",
   "metadata": {},
   "source": [
    "## Date range as an index"
   ]
  },
  {
   "cell_type": "code",
   "execution_count": 25,
   "metadata": {},
   "outputs": [
    {
     "data": {
      "text/plain": [
       "             Randnum  IsBool    Name  New\n",
       "Date                                     \n",
       "2015-01-01  0.177730    True   Apple  127\n",
       "2015-01-02  0.136812    True  Banana  127\n",
       "2015-01-03  0.330615   False  Tomato  127\n",
       "2015-01-04 -1.694660    True    Bean  127\n",
       "2015-01-05 -0.471962   False    Rice  127"
      ]
     },
     "execution_count": 25,
     "metadata": {},
     "output_type": "execute_result"
    }
   ],
   "source": [
    "# Set the index to a date range\n",
    "df.index = pd.date_range('1-1-2015', periods=5, freq='d')\n",
    "df.index.name = 'Date'\n",
    "df"
   ]
  },
  {
   "cell_type": "markdown",
   "metadata": {},
   "source": [
    "## Nested dictionary to DataFrame"
   ]
  },
  {
   "cell_type": "code",
   "execution_count": 26,
   "metadata": {},
   "outputs": [
    {
     "data": {
      "text/plain": [
       "   Paris  Amsterdam  London\n",
       "E    4.0        1.7     3.1\n",
       "N    1.2        2.3     9.7\n",
       "S    2.9        2.1     7.2\n",
       "W    0.8        7.2     2.0"
      ]
     },
     "execution_count": 26,
     "metadata": {},
     "output_type": "execute_result"
    }
   ],
   "source": [
    "# Create a nested dictionary of equal inner value-count\n",
    "data = {'Paris': {'N': 1.2, 'E': 4, 'S': 2.9, 'W': 0.8},\n",
    "        'Amsterdam': {'N': 2.3, 'E': 1.7, 'S': 2.1, 'W': 7.2},\n",
    "        'London': {'N': 9.7, 'E': 3.1, 'S': 7.2, 'W': 2}}\n",
    "\n",
    "df2 = pd.DataFrame(data)\n",
    "df2"
   ]
  }
 ],
 "metadata": {
  "kernelspec": {
   "display_name": "Python 3",
   "language": "python",
   "name": "python3"
  },
  "language_info": {
   "codemirror_mode": {
    "name": "ipython",
    "version": 3
   },
   "file_extension": ".py",
   "mimetype": "text/x-python",
   "name": "python",
   "nbconvert_exporter": "python",
   "pygments_lexer": "ipython3",
   "version": "3.6.5"
  }
 },
 "nbformat": 4,
 "nbformat_minor": 1
}
