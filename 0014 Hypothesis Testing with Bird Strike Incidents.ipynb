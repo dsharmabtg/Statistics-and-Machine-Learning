{
 "cells": [
  {
   "cell_type": "code",
   "execution_count": 1,
   "metadata": {},
   "outputs": [
    {
     "data": {
      "text/plain": [
       "'1.19.5'"
      ]
     },
     "execution_count": 1,
     "metadata": {},
     "output_type": "execute_result"
    }
   ],
   "source": [
    "%matplotlib inline\n",
    "import numpy as np\n",
    "import pandas as pd\n",
    "import scipy\n",
    "import matplotlib.pyplot as plt\n",
    "import matplotlib.mlab as mlab\n",
    "import seaborn as sns\n",
    "from scipy import stats\n",
    "import math\n",
    "from __future__ import division\n",
    "import warnings\n",
    "warnings.filterwarnings(\"ignore\")\n",
    "\n",
    "# turn of data table rendering\n",
    "pd.set_option('display.notebook_repr_html', False)\n",
    "\n",
    "sns.set_palette(['#00A99D', '#F5CA0C', '#B6129F', '#76620C', '#095C57'])\n",
    "np.version.full_version"
   ]
  },
  {
   "cell_type": "markdown",
   "metadata": {},
   "source": [
    "## Data\n",
    "The data used in this example contains reporting from the [Federal Aviation Administration Wildlife Strike Database](http://wildlife.faa.gov/database.aspx) in 2012 and 2013 in the US state of California. We only use daily wild life strike incident frequencies."
   ]
  },
  {
   "cell_type": "code",
   "execution_count": 2,
   "metadata": {},
   "outputs": [
    {
     "name": "stdout",
     "output_type": "stream",
     "text": [
      "     INCIDENT_DATE\n",
      "0  12/31/2013 0:00\n",
      "1  12/31/2013 0:00\n",
      "2  12/31/2013 0:00\n",
      "3  12/30/2013 0:00\n",
      "4  12/30/2013 0:00\n",
      "INCIDENT_DATE\n",
      "2012-01-02    1\n",
      "2012-01-04    2\n",
      "2012-01-05    5\n",
      "2012-01-06    3\n",
      "2012-01-07    2\n",
      "Name: INCIDENT_DATE, dtype: int64\n"
     ]
    }
   ],
   "source": [
    "# Load the data from a csv file. \n",
    "data = pd.read_csv('data/wildlife.csv')\n",
    "\n",
    "# We only need the incident dates this time\n",
    "data = data[['INCIDENT_DATE']]\n",
    "print(data.head())\n",
    "data.INCIDENT_DATE = pd.to_datetime(data.INCIDENT_DATE)\n",
    "data = data.groupby('INCIDENT_DATE')['INCIDENT_DATE'].size()\n",
    "print(data.head())"
   ]
  },
  {
   "cell_type": "code",
   "execution_count": 3,
   "metadata": {},
   "outputs": [
    {
     "data": {
      "text/plain": [
       "           incidents\n",
       "2012-01-01       NaN\n",
       "2012-01-02       NaN\n",
       "2012-01-03       NaN\n",
       "2012-01-04       NaN\n",
       "2012-01-05       NaN"
      ]
     },
     "execution_count": 3,
     "metadata": {},
     "output_type": "execute_result"
    }
   ],
   "source": [
    "# Set the index to contain all days in 2012 and 2013\n",
    "days_2012_2013 = pd.date_range('1/1/2012', '12/31/2013')\n",
    "data = pd.DataFrame(data, index=days_2012_2013, columns=['incidents'])\n",
    "data.head()"
   ]
  },
  {
   "cell_type": "code",
   "execution_count": 4,
   "metadata": {},
   "outputs": [
    {
     "data": {
      "text/plain": [
       "            incidents\n",
       "2012-01-01          0\n",
       "2012-01-02          0\n",
       "2012-01-03          0\n",
       "2012-01-04          0\n",
       "2012-01-05          0"
      ]
     },
     "execution_count": 4,
     "metadata": {},
     "output_type": "execute_result"
    }
   ],
   "source": [
    "# Fill the data with no strike incidents (NaN) with a zero\n",
    "data = data.fillna(0)\n",
    "data.head()"
   ]
  },
  {
   "cell_type": "code",
   "execution_count": 5,
   "metadata": {},
   "outputs": [
    {
     "data": {
      "image/png": "[encoded data removed]",
      "text/plain": [
       "<Figure size 432x288 with 2 Axes>"
      ]
     },
     "metadata": {},
     "output_type": "display_data"
    }
   ],
   "source": [
    "# Plot of the daily strike incident frequencies of 2012 and 2013\n",
    "f, (ax1, ax2) = plt.subplots(2, 1, sharex=True, sharey=True)\n",
    "sns.barplot(data['2012'].incidents, ax=ax1)\n",
    "sns.barplot(data['2013'].incidents, ax=ax2)\n",
    "ax1.set_title('Wildlife Strike Incidents 2012')\n",
    "ax2.set_title('Wildlife Strike Incidents 2013')\n",
    "ax1.set_xlabel('')\n",
    "ax2.set_xlabel('')\n",
    "plt.show()"
   ]
  },
  {
   "cell_type": "markdown",
   "metadata": {},
   "source": [
    "## Hypothesis testing\n",
    "Let's asume that the Federal Aviation Administration launched a new Wildlife Strike Prevention Program in 2013. We want to know if there is a significant decline in the number of daily strike incidents in 2013 as opposed to 2012. This forms our operational definition. We choose an alpha level of .05 as our level of significance. A probability smaller than the alpha level leads to rejecting the null hypothesis.\n",
    "\n",
    "|Hypothesis|$\\alpha = .05$||\n",
    "|---|---|---|:---:|\n",
    "|Null|$H_0:$|$\\bar{x} = \\mu$|\n",
    "|Alternative|$H_a:$|$\\bar{x} \\lt \\mu$|\n",
    "\n"
   ]
  },
  {
   "cell_type": "code",
   "execution_count": 6,
   "metadata": {},
   "outputs": [
    {
     "data": {
      "text/plain": [
       "(0.0, 0.0)"
      ]
     },
     "execution_count": 6,
     "metadata": {},
     "output_type": "execute_result"
    }
   ],
   "source": [
    "# We assume stats from the wildlife strike incidents in 2012\n",
    "# to be our population parameters\n",
    "mu = data['2012'].incidents.mean()\n",
    "sigma = data['2012'].incidents.std()\n",
    "mu, sigma"
   ]
  },
  {
   "cell_type": "code",
   "execution_count": 7,
   "metadata": {},
   "outputs": [
    {
     "data": {
      "text/plain": [
       "0.0"
      ]
     },
     "execution_count": 7,
     "metadata": {},
     "output_type": "execute_result"
    }
   ],
   "source": [
    "# We also take the average of strike incidents in 2013\n",
    "xbar = data['2013'].incidents.mean()\n",
    "xbar"
   ]
  },
  {
   "cell_type": "code",
   "execution_count": 8,
   "metadata": {},
   "outputs": [
    {
     "data": {
      "text/plain": [
       "365"
      ]
     },
     "execution_count": 8,
     "metadata": {},
     "output_type": "execute_result"
    }
   ],
   "source": [
    "# What is our sample size\n",
    "n = data['2013'].incidents.count()\n",
    "n"
   ]
  },
  {
   "cell_type": "code",
   "execution_count": 9,
   "metadata": {},
   "outputs": [
    {
     "data": {
      "text/plain": [
       "0.0"
      ]
     },
     "execution_count": 9,
     "metadata": {},
     "output_type": "execute_result"
    }
   ],
   "source": [
    "# Calculate the standard error\n",
    "SE = sigma / math.sqrt(n)\n",
    "SE"
   ]
  },
  {
   "cell_type": "markdown",
   "metadata": {},
   "source": [
    "We notice the mean average wildlife strike incidents is somewhat lower in 2013. We need to find out if this is due to the normal variation in the data. In other words, could we draw this mean by pure random chance? To find out, we calculate the z score for our sample mean and check this against the significance level alpha. "
   ]
  },
  {
   "cell_type": "code",
   "execution_count": 10,
   "metadata": {},
   "outputs": [
    {
     "ename": "ZeroDivisionError",
     "evalue": "float division by zero",
     "output_type": "error",
     "traceback": [
      "\u001b[1;31m---------------------------------------------------------------------------\u001b[0m",
      "\u001b[1;31mZeroDivisionError\u001b[0m                         Traceback (most recent call last)",
      "\u001b[1;32m<ipython-input-10-0d66318e05c7>\u001b[0m in \u001b[0;36m<module>\u001b[1;34m()\u001b[0m\n\u001b[0;32m      1\u001b[0m \u001b[1;31m# Calculate the z score for the mean of 2013 (xbar)\u001b[0m\u001b[1;33m\u001b[0m\u001b[1;33m\u001b[0m\u001b[0m\n\u001b[1;32m----> 2\u001b[1;33m \u001b[0mzscore\u001b[0m \u001b[1;33m=\u001b[0m \u001b[1;33m(\u001b[0m\u001b[0mxbar\u001b[0m \u001b[1;33m-\u001b[0m \u001b[0mmu\u001b[0m\u001b[1;33m)\u001b[0m \u001b[1;33m/\u001b[0m \u001b[0mSE\u001b[0m\u001b[1;33m\u001b[0m\u001b[0m\n\u001b[0m\u001b[0;32m      3\u001b[0m \u001b[0mzscore\u001b[0m\u001b[1;33m\u001b[0m\u001b[0m\n",
      "\u001b[1;31mZeroDivisionError\u001b[0m: float division by zero"
     ]
    }
   ],
   "source": [
    "# Calculate the z score for the mean of 2013 (xbar)\n",
    "zscore = (xbar - mu) / SE\n",
    "zscore"
   ]
  },
  {
   "cell_type": "code",
   "execution_count": 11,
   "metadata": {},
   "outputs": [
    {
     "data": {
      "text/plain": [
       "-1.6448536269514729"
      ]
     },
     "execution_count": 11,
     "metadata": {},
     "output_type": "execute_result"
    }
   ],
   "source": [
    "# Calculate the critical value of the alpha level on one side of the\n",
    "# distribution, because we're only intrested in a mean decline\n",
    "alpha = .05\n",
    "critical_value = stats.norm.ppf(alpha)\n",
    "critical_value"
   ]
  },
  {
   "cell_type": "code",
   "execution_count": 12,
   "metadata": {},
   "outputs": [
    {
     "ename": "NameError",
     "evalue": "name 'zscore' is not defined",
     "output_type": "error",
     "traceback": [
      "\u001b[1;31m---------------------------------------------------------------------------\u001b[0m",
      "\u001b[1;31mNameError\u001b[0m                                 Traceback (most recent call last)",
      "\u001b[1;32m<ipython-input-12-f51d8df24a18>\u001b[0m in \u001b[0;36m<module>\u001b[1;34m()\u001b[0m\n\u001b[0;32m     11\u001b[0m \u001b[1;33m\u001b[0m\u001b[0m\n\u001b[0;32m     12\u001b[0m \u001b[1;31m# Plot the z score\u001b[0m\u001b[1;33m\u001b[0m\u001b[1;33m\u001b[0m\u001b[0m\n\u001b[1;32m---> 13\u001b[1;33m \u001b[0mplt\u001b[0m\u001b[1;33m.\u001b[0m\u001b[0mplot\u001b[0m\u001b[1;33m(\u001b[0m\u001b[1;33m[\u001b[0m\u001b[0mzscore\u001b[0m\u001b[1;33m,\u001b[0m \u001b[0mzscore\u001b[0m\u001b[1;33m]\u001b[0m\u001b[1;33m,\u001b[0m \u001b[1;33m[\u001b[0m\u001b[1;36m0\u001b[0m\u001b[1;33m,\u001b[0m \u001b[0mstats\u001b[0m\u001b[1;33m.\u001b[0m\u001b[0mnorm\u001b[0m\u001b[1;33m.\u001b[0m\u001b[0mpdf\u001b[0m\u001b[1;33m(\u001b[0m\u001b[0mzscore\u001b[0m\u001b[1;33m)\u001b[0m\u001b[1;33m]\u001b[0m\u001b[1;33m)\u001b[0m\u001b[1;33m\u001b[0m\u001b[0m\n\u001b[0m\u001b[0;32m     14\u001b[0m \u001b[1;33m\u001b[0m\u001b[0m\n\u001b[0;32m     15\u001b[0m \u001b[1;31m# Show legend\u001b[0m\u001b[1;33m\u001b[0m\u001b[1;33m\u001b[0m\u001b[0m\n",
      "\u001b[1;31mNameError\u001b[0m: name 'zscore' is not defined"
     ]
    },
    {
     "data": {
      "image/png": "[encoded data removed]",
      "text/plain": [
       "<Figure size 432x288 with 1 Axes>"
      ]
     },
     "metadata": {},
     "output_type": "display_data"
    }
   ],
   "source": [
    "# Plot the normal distribution\n",
    "samples = 100\n",
    "x_plot = np.linspace(-3.5, 3.5, samples)\n",
    "y_plot = stats.norm.pdf(x_plot, 0, 1)\n",
    "plt.plot(x_plot, y_plot)\n",
    "\n",
    "# Plot the critical region\n",
    "x_crit = np.linspace(-3.5, critical_value, samples)\n",
    "y_crit = stats.norm.pdf(x_crit, 0, 1)\n",
    "plt.fill_between(x_crit,  y_crit, alpha=.5)\n",
    "\n",
    "# Plot the z score\n",
    "plt.plot([zscore, zscore], [0, stats.norm.pdf(zscore)])\n",
    "\n",
    "# Show legend\n",
    "plt.legend(['critical region', 'z score'])\n",
    "plt.show()"
   ]
  },
  {
   "cell_type": "code",
   "execution_count": 13,
   "metadata": {},
   "outputs": [
    {
     "ename": "NameError",
     "evalue": "name 'zscore' is not defined",
     "output_type": "error",
     "traceback": [
      "\u001b[1;31m---------------------------------------------------------------------------\u001b[0m",
      "\u001b[1;31mNameError\u001b[0m                                 Traceback (most recent call last)",
      "\u001b[1;32m<ipython-input-13-2cc76a1ca587>\u001b[0m in \u001b[0;36m<module>\u001b[1;34m()\u001b[0m\n\u001b[0;32m      1\u001b[0m \u001b[1;31m# So given these values let's test the alternative hypothesis\u001b[0m\u001b[1;33m\u001b[0m\u001b[1;33m\u001b[0m\u001b[0m\n\u001b[1;32m----> 2\u001b[1;33m \u001b[0mzscore\u001b[0m \u001b[1;33m<\u001b[0m \u001b[0mcritical_value\u001b[0m\u001b[1;33m\u001b[0m\u001b[0m\n\u001b[0m",
      "\u001b[1;31mNameError\u001b[0m: name 'zscore' is not defined"
     ]
    }
   ],
   "source": [
    "# So given these values let's test the alternative hypothesis\n",
    "zscore < critical_value"
   ]
  },
  {
   "cell_type": "markdown",
   "metadata": {},
   "source": [
    "This means we could have drawn a mean sample xbar from the real population pure by random chance, therefore we fail to reject the null hypothesis. In other words, there is no significant difference of average daily strike incidents between 2013 and 2012."
   ]
  },
  {
   "cell_type": "code",
   "execution_count": 14,
   "metadata": {},
   "outputs": [
    {
     "ename": "NameError",
     "evalue": "name 'zscore' is not defined",
     "output_type": "error",
     "traceback": [
      "\u001b[1;31m---------------------------------------------------------------------------\u001b[0m",
      "\u001b[1;31mNameError\u001b[0m                                 Traceback (most recent call last)",
      "\u001b[1;32m<ipython-input-14-c745407c543f>\u001b[0m in \u001b[0;36m<module>\u001b[1;34m()\u001b[0m\n\u001b[0;32m      1\u001b[0m \u001b[1;31m# The probability of drawing this sample mean is about 8%\u001b[0m\u001b[1;33m\u001b[0m\u001b[1;33m\u001b[0m\u001b[0m\n\u001b[1;32m----> 2\u001b[1;33m \u001b[0mp\u001b[0m \u001b[1;33m=\u001b[0m \u001b[0mstats\u001b[0m\u001b[1;33m.\u001b[0m\u001b[0mnorm\u001b[0m\u001b[1;33m.\u001b[0m\u001b[0mcdf\u001b[0m\u001b[1;33m(\u001b[0m\u001b[0mzscore\u001b[0m\u001b[1;33m)\u001b[0m\u001b[1;33m\u001b[0m\u001b[0m\n\u001b[0m\u001b[0;32m      3\u001b[0m \u001b[0mp\u001b[0m\u001b[1;33m\u001b[0m\u001b[0m\n",
      "\u001b[1;31mNameError\u001b[0m: name 'zscore' is not defined"
     ]
    }
   ],
   "source": [
    "# The probability of drawing this sample mean is about 8%\n",
    "p = stats.norm.cdf(zscore)\n",
    "p"
   ]
  }
 ],
 "metadata": {
  "kernelspec": {
   "display_name": "Python 3",
   "language": "python",
   "name": "python3"
  },
  "language_info": {
   "codemirror_mode": {
    "name": "ipython",
    "version": 3
   },
   "file_extension": ".py",
   "mimetype": "text/x-python",
   "name": "python",
   "nbconvert_exporter": "python",
   "pygments_lexer": "ipython3",
   "version": "3.6.5"
  }
 },
 "nbformat": 4,
 "nbformat_minor": 1
}
