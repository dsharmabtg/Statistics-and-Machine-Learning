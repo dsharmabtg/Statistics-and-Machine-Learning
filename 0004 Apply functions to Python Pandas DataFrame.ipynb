{
 "cells": [
  {
   "cell_type": "markdown",
   "metadata": {},
   "source": [
    "## Setup"
   ]
  },
  {
   "cell_type": "code",
   "execution_count": 2,
   "metadata": {},
   "outputs": [
    {
     "data": {
      "text/plain": [
       "'0.23.0'"
      ]
     },
     "execution_count": 2,
     "metadata": {},
     "output_type": "execute_result"
    }
   ],
   "source": [
    "import pandas as pd\n",
    "import numpy as np\n",
    "from scipy import stats\n",
    "\n",
    "# turn of data table rendering\n",
    "pd.set_option('display.notebook_repr_html', False)\n",
    "pd.__version__"
   ]
  },
  {
   "cell_type": "markdown",
   "metadata": {},
   "source": [
    "## Data set"
   ]
  },
  {
   "cell_type": "code",
   "execution_count": 3,
   "metadata": {},
   "outputs": [
    {
     "data": {
      "text/plain": [
       "   Billy Beer  Lucky Lager  Triple Bock\n",
       "0       13884        34565        39987\n",
       "1       23008        83938        35512\n",
       "2       17883        59437        23542\n",
       "3       24435        28843        37729\n",
       "4       49938        48285        36647"
      ]
     },
     "execution_count": 3,
     "metadata": {},
     "output_type": "execute_result"
    }
   ],
   "source": [
    "# Constructing a beer sales DataFrame\n",
    "df = pd.DataFrame({'Billy Beer': [13884, 23008, 17883, 24435, 49938],\n",
    "                   'Lucky Lager': [34565, 83938, 59437, 28843, 48285],\n",
    "                   'Triple Bock': [39987, 35512, 23542, 37729, 36647]})\n",
    "df"
   ]
  },
  {
   "cell_type": "code",
   "execution_count": 4,
   "metadata": {},
   "outputs": [
    {
     "data": {
      "text/plain": [
       "         Billy Beer   Lucky Lager   Triple Bock\n",
       "count      5.000000      5.000000      5.000000\n",
       "mean   25829.600000  51013.600000  34683.400000\n",
       "std    14115.302841  21934.601587   6443.542294\n",
       "min    13884.000000  28843.000000  23542.000000\n",
       "25%    17883.000000  34565.000000  35512.000000\n",
       "50%    23008.000000  48285.000000  36647.000000\n",
       "75%    24435.000000  59437.000000  37729.000000\n",
       "max    49938.000000  83938.000000  39987.000000"
      ]
     },
     "execution_count": 4,
     "metadata": {},
     "output_type": "execute_result"
    }
   ],
   "source": [
    "# Quick insights / descriptive statistics\n",
    "df.describe()"
   ]
  },
  {
   "cell_type": "markdown",
   "metadata": {},
   "source": [
    "## Call functions on a DataFrame"
   ]
  },
  {
   "cell_type": "code",
   "execution_count": 5,
   "metadata": {},
   "outputs": [
    {
     "data": {
      "text/plain": [
       "Billy Beer     25829.6\n",
       "Lucky Lager    51013.6\n",
       "Triple Bock    34683.4\n",
       "dtype: float64"
      ]
     },
     "execution_count": 5,
     "metadata": {},
     "output_type": "execute_result"
    }
   ],
   "source": [
    "# Computing the mean sales for each brand\n",
    "df.mean()"
   ]
  },
  {
   "cell_type": "code",
   "execution_count": 6,
   "metadata": {},
   "outputs": [
    {
     "data": {
      "text/plain": [
       "Billy Beer     24435.0\n",
       "Lucky Lager    59437.0\n",
       "Triple Bock    37729.0\n",
       "Name: 0.75, dtype: float64"
      ]
     },
     "execution_count": 6,
     "metadata": {},
     "output_type": "execute_result"
    }
   ],
   "source": [
    "# Calculate the 75% quartile\n",
    "df.quantile(q=.75)"
   ]
  },
  {
   "cell_type": "code",
   "execution_count": 7,
   "metadata": {},
   "outputs": [
    {
     "data": {
      "text/plain": [
       "Billy Beer     14115.302841\n",
       "Lucky Lager    21934.601587\n",
       "Triple Bock     6443.542294\n",
       "dtype: float64"
      ]
     },
     "execution_count": 7,
     "metadata": {},
     "output_type": "execute_result"
    }
   ],
   "source": [
    "# Calculate the sample standard deviation\n",
    "df.std()"
   ]
  },
  {
   "cell_type": "code",
   "execution_count": 8,
   "metadata": {},
   "outputs": [
    {
     "data": {
      "text/plain": [
       "Billy Beer     12625.110670\n",
       "Lucky Lager    19618.904084\n",
       "Triple Bock     5763.279434\n",
       "dtype: float64"
      ]
     },
     "execution_count": 8,
     "metadata": {},
     "output_type": "execute_result"
    }
   ],
   "source": [
    "# Calculate the population standard deviation\n",
    "df.std(ddof=0)"
   ]
  },
  {
   "cell_type": "markdown",
   "metadata": {},
   "source": [
    "## Using Apply or Lambda expression"
   ]
  },
  {
   "cell_type": "code",
   "execution_count": 9,
   "metadata": {},
   "outputs": [
    {
     "data": {
      "text/plain": [
       "Billy Beer     25829.6\n",
       "Lucky Lager    51013.6\n",
       "Triple Bock    34683.4\n",
       "dtype: float64"
      ]
     },
     "execution_count": 9,
     "metadata": {},
     "output_type": "execute_result"
    }
   ],
   "source": [
    "# The same as calling .mean on the DataFrame\n",
    "df.apply(np.mean)"
   ]
  },
  {
   "cell_type": "code",
   "execution_count": 10,
   "metadata": {},
   "outputs": [
    {
     "data": {
      "text/plain": [
       "Billy Beer     25829.6\n",
       "Lucky Lager    51013.6\n",
       "Triple Bock    34683.4\n",
       "dtype: float64"
      ]
     },
     "execution_count": 10,
     "metadata": {},
     "output_type": "execute_result"
    }
   ],
   "source": [
    "# Same as above\n",
    "np.mean(df)"
   ]
  },
  {
   "cell_type": "code",
   "execution_count": 11,
   "metadata": {},
   "outputs": [
    {
     "data": {
      "text/plain": [
       "   Billy Beer  Lucky Lager  Triple Bock\n",
       "0   -0.846287    -0.749893     0.823088\n",
       "1   -0.199897     1.501026     0.128594\n",
       "2   -0.562978     0.384023    -1.729080\n",
       "3   -0.098801    -1.010759     0.472659\n",
       "4    1.707962    -0.124397     0.304739"
      ]
     },
     "execution_count": 11,
     "metadata": {},
     "output_type": "execute_result"
    }
   ],
   "source": [
    "# Specify a function to apply to the DataFrame\n",
    "def zscore(series):\n",
    "    result = (series - series.mean()) / series.std()\n",
    "    return result\n",
    "\n",
    "# Call Apply on the highest function\n",
    "df.apply(zscore)"
   ]
  },
  {
   "cell_type": "code",
   "execution_count": 12,
   "metadata": {},
   "outputs": [
    {
     "data": {
      "text/plain": [
       "array([[-0.84628719, -0.74989281,  0.82308764],\n",
       "       [-0.19989653,  1.50102567,  0.12859386],\n",
       "       [-0.56297765,  0.38402339, -1.72907998],\n",
       "       [-0.09880057, -1.01075918,  0.47265927],\n",
       "       [ 1.70796194, -0.12439706,  0.30473921]])"
      ]
     },
     "execution_count": 12,
     "metadata": {},
     "output_type": "execute_result"
    }
   ],
   "source": [
    "# The same result values as using scipy stats zscore with\n",
    "# a dynamic degrees of freedom of 1 \n",
    "stats.zscore(df, ddof=1)"
   ]
  },
  {
   "cell_type": "code",
   "execution_count": 13,
   "metadata": {},
   "outputs": [
    {
     "data": {
      "text/plain": [
       "Billy Beer      6552.0\n",
       "Lucky Lager    24872.0\n",
       "Triple Bock     2217.0\n",
       "dtype: float64"
      ]
     },
     "execution_count": 13,
     "metadata": {},
     "output_type": "execute_result"
    }
   ],
   "source": [
    "# Calculate inter quartile range with a lambda expression\n",
    "df.apply(lambda x: x.quantile(q=.75) - x.quantile(q=.25))"
   ]
  }
 ],
 "metadata": {
  "kernelspec": {
   "display_name": "Python 3",
   "language": "python",
   "name": "python3"
  },
  "language_info": {
   "codemirror_mode": {
    "name": "ipython",
    "version": 3
   },
   "file_extension": ".py",
   "mimetype": "text/x-python",
   "name": "python",
   "nbconvert_exporter": "python",
   "pygments_lexer": "ipython3",
   "version": "3.6.5"
  }
 },
 "nbformat": 4,
 "nbformat_minor": 1
}
