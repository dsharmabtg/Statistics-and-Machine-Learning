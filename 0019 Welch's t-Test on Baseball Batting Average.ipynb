{
 "cells": [
  {
   "cell_type": "code",
   "execution_count": 5,
   "metadata": {},
   "outputs": [
    {
     "name": "stdout",
     "output_type": "stream",
     "text": [
      "1.19.5 1.1.0 0.23.0 0.9.0\n"
     ]
    }
   ],
   "source": [
    "%matplotlib inline\n",
    "import numpy as np\n",
    "import pandas as pd\n",
    "import scipy\n",
    "import matplotlib.pyplot as plt\n",
    "import seaborn as sns\n",
    "from scipy import stats\n",
    "import statsmodels.api as sm\n",
    "import math\n",
    "from __future__ import division\n",
    "import warnings\n",
    "warnings.filterwarnings(\"ignore\")\n",
    "\n",
    "# turn of data table rendering\n",
    "pd.set_option('display.notebook_repr_html', False)\n",
    "\n",
    "sns.set_palette(['#00A99D', '#F5CA0C', '#B6129F', '#76620C', '#095C57'])\n",
    "print(np.version.full_version, scipy.version.full_version, pd.__version__, sm.version.full_version)"
   ]
  },
  {
   "cell_type": "markdown",
   "metadata": {},
   "source": [
    "## Baseball data\n",
    "We use baseball stats data from the [Lahman’s Baseball Database](http://www.seanlahman.com/baseball-archive/statistics) as provided by the Udacity course [Intro to Data Science](https://www.udacity.com/course/ud359)."
   ]
  },
  {
   "cell_type": "code",
   "execution_count": 6,
   "metadata": {},
   "outputs": [
    {
     "data": {
      "text/plain": [
       "             name handedness  height  weight    avg   HR\n",
       "0       Tom Brown          R      73     170  0.000    0\n",
       "1  Denny Lemaster          R      73     182  0.130    4\n",
       "2       Joe Nolan          L      71     175  0.263   27\n",
       "3     Denny Doyle          L      69     175  0.250   16\n",
       "4   Jose Cardenal          R      70     150  0.275  138"
      ]
     },
     "execution_count": 6,
     "metadata": {},
     "output_type": "execute_result"
    }
   ],
   "source": [
    "# Load the stats data from a csv file\n",
    "df = pd.read_csv('data/baseball_stats.csv')\n",
    "df.head()"
   ]
  },
  {
   "cell_type": "markdown",
   "metadata": {},
   "source": [
    "## Question and hypothesis\n",
    "We want to know if there is a statistical significant difference in the career batting average between left-handed and right-handed players. We choose an alpha level of 5% as the significance level. We test against the hypothesis below:\n",
    "\n",
    "|Hypothesis||$\\alpha = .05$|\n",
    "|---:|:---:|---|:---|\n",
    "|$H_0:$|$\\mu_{R} = \\mu_{L}$|There is no significant difference between left and right handedness|\n",
    "|$H_a:$|$\\mu_{R} \\neq \\mu_{L}$|There is a significant difference between left and right handedness|"
   ]
  },
  {
   "cell_type": "markdown",
   "metadata": {},
   "source": [
    "## Some data wrangling"
   ]
  },
  {
   "cell_type": "code",
   "execution_count": 7,
   "metadata": {},
   "outputs": [
    {
     "data": {
      "text/plain": [
       "(256, 546)"
      ]
     },
     "execution_count": 7,
     "metadata": {},
     "output_type": "execute_result"
    }
   ],
   "source": [
    "# Get the appropriate samples from the dataframe\n",
    "# Filter out the batting averages of 0.0 (pitchers assumed)\n",
    "left_handed_avg  = df[(df['handedness'] == 'L') & (df['avg'] != 0)]['avg']\n",
    "right_handed_avg = df[(df['handedness'] == 'R') & (df['avg'] != 0)]['avg']\n",
    "\n",
    "left_handed_avg.count(), right_handed_avg.count()"
   ]
  },
  {
   "cell_type": "code",
   "execution_count": 9,
   "metadata": {},
   "outputs": [
    {
     "data": {
      "image/png": "[encoded data removed]",
      "text/plain": [
       "<Figure size 720x432 with 1 Axes>"
      ]
     },
     "metadata": {},
     "output_type": "display_data"
    }
   ],
   "source": [
    "# Plot the distributions\n",
    "plt.figure(figsize=(10,6))\n",
    "sns.distplot(left_handed_avg)\n",
    "sns.distplot(right_handed_avg)\n",
    "plt.show()"
   ]
  },
  {
   "cell_type": "markdown",
   "metadata": {},
   "source": [
    "## Welch's t-Test\n",
    "This t-test is a more generic hypothesis test for independent samples, based on Student's t-test. The difference with the Student's t-test is that we account for sample size and variance differences. If we set equal_var to False in the scipy stats ttest_ind, the function performs the Welch's t-test instead of the Student's t-test. The following formula applies:\n",
    "\n",
    "$$t=\\frac{(\\bar{x}_a-\\bar{x}_b)-(\\mu_a-\\mu_b)}{\\sqrt{\\frac{s_a^2}{n_a}+\\frac{s_b^2}{n_b}}}$$\n",
    "\n",
    "\n",
    "Note that the variance of $a$ and $b$ are used, not the pooled variance."
   ]
  },
  {
   "cell_type": "code",
   "execution_count": 10,
   "metadata": {},
   "outputs": [
    {
     "data": {
      "text/plain": [
       "(6.322968049326536, 4.87414820898943e-10)"
      ]
     },
     "execution_count": 10,
     "metadata": {},
     "output_type": "execute_result"
    }
   ],
   "source": [
    "# Perform Welch's t-test (equal_var=False)\n",
    "t, p = stats.ttest_ind(left_handed_avg, right_handed_avg, equal_var=False)\n",
    "t, p"
   ]
  },
  {
   "cell_type": "markdown",
   "metadata": {},
   "source": [
    "This function assumes we want to perform a two-sided t-test. For a one-sided t-test use $\\frac{1}{2}p$ since it is only true for one side of the distribution."
   ]
  },
  {
   "cell_type": "markdown",
   "metadata": {},
   "source": [
    "## Hypothesis testing"
   ]
  },
  {
   "cell_type": "code",
   "execution_count": 11,
   "metadata": {},
   "outputs": [
    {
     "data": {
      "text/plain": [
       "True"
      ]
     },
     "execution_count": 11,
     "metadata": {},
     "output_type": "execute_result"
    }
   ],
   "source": [
    "# Test if we can reject the null hypothesis\n",
    "alpha = .05\n",
    "p < alpha"
   ]
  },
  {
   "cell_type": "markdown",
   "metadata": {},
   "source": [
    "There seems to be a statistical significant difference between left and right handed players. We are 95% confident that the difference is not due to random chance."
   ]
  }
 ],
 "metadata": {
  "kernelspec": {
   "display_name": "Python 3",
   "language": "python",
   "name": "python3"
  },
  "language_info": {
   "codemirror_mode": {
    "name": "ipython",
    "version": 3
   },
   "file_extension": ".py",
   "mimetype": "text/x-python",
   "name": "python",
   "nbconvert_exporter": "python",
   "pygments_lexer": "ipython3",
   "version": "3.6.5"
  }
 },
 "nbformat": 4,
 "nbformat_minor": 1
}
