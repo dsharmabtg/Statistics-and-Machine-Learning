{
 "cells": [
  {
   "cell_type": "code",
   "execution_count": 1,
   "metadata": {},
   "outputs": [
    {
     "data": {
      "text/plain": [
       "'3.6.5 |Anaconda, Inc.| (default, Mar 29 2018, 13:32:41) [MSC v.1900 64 bit (AMD64)]'"
      ]
     },
     "execution_count": 1,
     "metadata": {},
     "output_type": "execute_result"
    }
   ],
   "source": [
    "%matplotlib inline\n",
    "import sys\n",
    "import numpy as np\n",
    "import matplotlib.pyplot as plt\n",
    "import seaborn as sns\n",
    "import warnings\n",
    "warnings.filterwarnings(\"ignore\")\n",
    "\n",
    "sns.set_palette(['#00A99D', '#F5CA0C', '#B6129F', '#76620C', '#095C57'])\n",
    "sys.version"
   ]
  },
  {
   "cell_type": "markdown",
   "metadata": {},
   "source": [
    "## Functions\n",
    "We often express/encode relationships between different real-world quantities as a function. A function assigns in each number in its domain another number. The function 'transformes' the input variable into an output variable by using a rule. The domain consists of all numbers that can be plugged into the function. In the example below, the domain of $f$ is all real numbers $\\mathbb R$ except $0$.\n",
    "\n",
    "$$\n",
    "f(x)=\\frac{1}{x}\n",
    "$$"
   ]
  },
  {
   "cell_type": "code",
   "execution_count": 2,
   "metadata": {},
   "outputs": [
    {
     "data": {
      "text/plain": [
       "(0.5, 0.2)"
      ]
     },
     "execution_count": 2,
     "metadata": {},
     "output_type": "execute_result"
    }
   ],
   "source": [
    "# Function f(x) as a lambda expression\n",
    "f = lambda x: 1/x\n",
    "\n",
    "f(2), f(5)"
   ]
  },
  {
   "cell_type": "markdown",
   "metadata": {},
   "source": [
    "A more interesting example of a function with piece wise notation for selecting between subrules below. Here al values greater than $4$ are handled differently compared to values less or equal to $4$.\n",
    "\n",
    "$$\n",
    "g(x)=\\begin{cases}\n",
    "    x^2 & x \\gt 4\\\\\n",
    "    2x & x \\leq 4\n",
    "\\end{cases} \n",
    "$$\n"
   ]
  },
  {
   "cell_type": "code",
   "execution_count": 3,
   "metadata": {},
   "outputs": [
    {
     "data": {
      "text/plain": [
       "(6, 25)"
      ]
     },
     "execution_count": 3,
     "metadata": {},
     "output_type": "execute_result"
    }
   ],
   "source": [
    "# Function definition g(x)\n",
    "def g(x):\n",
    "    if x > 4:\n",
    "        return x**2\n",
    "    elif x <= 4:\n",
    "        return 2*x\n",
    "\n",
    "g(3), g(5)"
   ]
  },
  {
   "cell_type": "markdown",
   "metadata": {},
   "source": [
    "In fact, functions can describe rules in plain English, although it tends to become more ambiguous. In the example below $c(1325)=3$ and $c(1325.5)=100$.\n",
    "\n",
    "$$\n",
    "c(x)=\\begin{cases}\n",
    "    the\\ number\\ of\\ digits \\lt 4 & x=\\mathbb{W}\\\\\n",
    "    100 & otherwise\n",
    "\\end{cases}\n",
    "$$"
   ]
  },
  {
   "cell_type": "code",
   "execution_count": 4,
   "metadata": {},
   "outputs": [
    {
     "data": {
      "text/plain": [
       "(0, 3, 100)"
      ]
     },
     "execution_count": 4,
     "metadata": {},
     "output_type": "execute_result"
    }
   ],
   "source": [
    "# Function definition c(x)\n",
    "def c(x):\n",
    "    result = 0\n",
    "    \n",
    "    if float(x).is_integer() == False:\n",
    "        return 100\n",
    "\n",
    "    digits = str(int(x))  # can be a .0 float\n",
    "\n",
    "    for i in range(len(digits)):\n",
    "        if int(digits[i]) < 4:\n",
    "            result += 1\n",
    "\n",
    "    return result\n",
    "\n",
    "c(5678), c(1634508995), c(1634508995.031)"
   ]
  },
  {
   "cell_type": "markdown",
   "metadata": {},
   "source": [
    "We can also combine functions to get completely new aggregated function."
   ]
  },
  {
   "cell_type": "code",
   "execution_count": 5,
   "metadata": {},
   "outputs": [
    {
     "data": {
      "text/plain": [
       "(0.4444444444444444, 2.0, 0.19444444444444442)"
      ]
     },
     "execution_count": 5,
     "metadata": {},
     "output_type": "execute_result"
    }
   ],
   "source": [
    "# Combine functions a, b, and c\n",
    "a = lambda x: 1/(abs(x)+1)\n",
    "b = lambda x: a(x)**2\n",
    "c = lambda x: b(x)+a(x)\n",
    "\n",
    "c(-2), c(0), c(5)"
   ]
  },
  {
   "cell_type": "code",
   "execution_count": 6,
   "metadata": {},
   "outputs": [
    {
     "data": {
      "image/png": "[encoded data removed]",
      "text/plain": [
       "<Figure size 432x288 with 1 Axes>"
      ]
     },
     "metadata": {},
     "output_type": "display_data"
    }
   ],
   "source": [
    "# Plot the function c(x) from -2 to 5\n",
    "x_values = np.linspace(-2, 5, 250)\n",
    "y_values = c(x_values)\n",
    "\n",
    "plt.plot(x_values, y_values)\n",
    "plt.fill_between(x_values, y_values, alpha=.5)\n",
    "plt.show()"
   ]
  },
  {
   "cell_type": "markdown",
   "metadata": {},
   "source": [
    "## Finding the Domain of a Function\n",
    "A function is supposed to be unambiguous, or [well-defined](http://en.wikipedia.org/wiki/Well-defined). If we take the square root function $f(x)=\\sqrt{x}$ we cannot plug in any number x and get an unambiguous result, since $f(25)=5$, but also possible $f(25)=-5$. So the domain of $f$ is from zero (included) to infinity (excluded) $[0, \\infty)$."
   ]
  },
  {
   "cell_type": "markdown",
   "metadata": {},
   "source": [
    "Examples:\n",
    "$$\n",
    "g(x)=\\sqrt{2x+4}\\\\\n",
    "2x+4 \\ge 0\\\\\n",
    "2x \\ge -4\\\\\n",
    "x \\ge -2\n",
    "$$\n",
    "\n",
    "So the domain of $g$ is $[-2,\\infty)$\n",
    "\n",
    "$$\n",
    "c(x)=\\sqrt{1-x}+\\sqrt{1+x}\\\\\n",
    "1-x\\ge0\\ \\&\\ 1+x\\ge0\\\\\n",
    "1\\ge x\\ \\&\\ x\\ge-1\\\\\n",
    "x\\le1\\ \\&\\ x\\ge-1\n",
    "$$\n",
    "\n",
    "So the domain of $c$ is $[-1, 1]$"
   ]
  },
  {
   "cell_type": "markdown",
   "metadata": {},
   "source": [
    "## Limits\n"
   ]
  }
 ],
 "metadata": {
  "kernelspec": {
   "display_name": "Python 3",
   "language": "python",
   "name": "python3"
  },
  "language_info": {
   "codemirror_mode": {
    "name": "ipython",
    "version": 3
   },
   "file_extension": ".py",
   "mimetype": "text/x-python",
   "name": "python",
   "nbconvert_exporter": "python",
   "pygments_lexer": "ipython3",
   "version": "3.6.5"
  }
 },
 "nbformat": 4,
 "nbformat_minor": 1
}
