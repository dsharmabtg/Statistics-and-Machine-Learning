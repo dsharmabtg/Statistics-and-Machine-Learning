{
 "cells": [
  {
   "cell_type": "code",
   "execution_count": 3,
   "metadata": {},
   "outputs": [
    {
     "data": {
      "text/plain": [
       "'3.6.5 |Anaconda, Inc.| (default, Mar 29 2018, 13:32:41) [MSC v.1900 64 bit (AMD64)]'"
      ]
     },
     "execution_count": 3,
     "metadata": {},
     "output_type": "execute_result"
    }
   ],
   "source": [
    "%matplotlib inline\n",
    "import sys\n",
    "import numpy as np\n",
    "import pandas as pd\n",
    "import matplotlib.pyplot as plt\n",
    "import seaborn as sns\n",
    "from __future__ import print_function\n",
    "import warnings\n",
    "warnings.filterwarnings(\"ignore\")\n",
    "\n",
    "# turn of data table rendering\n",
    "pd.set_option('display.notebook_repr_html', False)\n",
    "sns.set_palette(['#00A99D', '#F5CA0C', '#B6129F', '#76620C', '#095C57'])\n",
    "sys.version"
   ]
  },
  {
   "cell_type": "markdown",
   "metadata": {},
   "source": [
    "## Supervised Classification\n",
    "In this type of machine learing we tell the system the correct answer to a set a features. The system should be taught so well that it is later capable of accurately classifying data it did not encounter before. Some examples of applications are; recognize someone in a picture from a set of tagged photos, spam filtering and recommender systems (music, movies, customers who buy this product also bought...)"
   ]
  },
  {
   "cell_type": "markdown",
   "metadata": {},
   "source": [
    "### Features and Labels\n",
    "We can describe a hidden object based on its features. A piece of music, for instance, can have continuous features like the song lenght, tempo, dynamics, intensity. Labels are the classes an object can belong to. In this case a class could be whether a song is liked or disliked by someone.\n",
    "\n",
    "A classifier algorithm defines a decision surface (DS) to separate one class from another. If we know on which side of the boundary a new data point falls, we can predict what class it belongs to. The example below is a linear decision surface. The scatterplot shows two features (a, b) and the purple descision boundary separates two classes (1, 2)."
   ]
  },
  {
   "cell_type": "code",
   "execution_count": 4,
   "metadata": {},
   "outputs": [
    {
     "data": {
      "image/png": "[encoded data removed]",
      "text/plain": [
       "<Figure size 402.375x360 with 1 Axes>"
      ]
     },
     "metadata": {},
     "output_type": "display_data"
    }
   ],
   "source": [
    "# Create and plot a linear descision surface\n",
    "df = pd.DataFrame({'feature_a': np.random.rand(100) * 6, \n",
    "                   'feature_b': np.random.rand(100) * 4.2, \n",
    "                   'class': 1})\n",
    "df = df.append(pd.DataFrame({\n",
    "                   'feature_a': np.random.rand(100) * 6 + 1.7, \n",
    "                   'feature_b': np.random.rand(100) * np.random.randint(5,6) + 3.8, \n",
    "                   'class': 2}))\n",
    "\n",
    "sns.lmplot(\"feature_a\", \"feature_b\", df, hue='class', \n",
    "           markers=[\"x\", \"o\"], scatter_kws={\"s\": 30}, fit_reg=False);\n",
    "\n",
    "plt.plot([9.5,0.5], [1.5,6.5], color='#B6129F')\n",
    "plt.show()"
   ]
  },
  {
   "cell_type": "markdown",
   "metadata": {},
   "source": [
    "## Gaussian Naive Bayes Classifier\n",
    "Naive Bayes Classifiers are a set of supervised machine learning classifiers based on applying [Bayes' Theorem](http://unsupervised-learning.com/bayes-theorem-conditional-probability/). The reason it is called naive is mainly because the algorithms assume independence between features. For example, a solely naive Bayes spam filter only looks at the words separately and doesn't take the word order into account.\n",
    "\n",
    "In the example below we use the training set from the example above to train a [Gaussian Naive Bayes Classifier](http://scikit-learn.org/stable/modules/naive_bayes.html#naive-bayes) found in scikit-learn called [GaussianNB](http://scikit-learn.org/stable/modules/generated/sklearn.naive_bayes.GaussianNB.html#sklearn.naive_bayes.GaussianNB). The likelihood of the chosen features in the data is assumed to folow the [Bell curve](http://en.wikipedia.org/wiki/The_Bell_Curve)."
   ]
  },
  {
   "cell_type": "code",
   "execution_count": 11,
   "metadata": {},
   "outputs": [
    {
     "data": {
      "text/plain": [
       "   feature_a  feature_b  class\n",
       "0   3.575388   4.297291    2.0\n",
       "1   1.212637   0.340043    1.0\n",
       "2   6.385034   8.118210    2.0\n",
       "3   1.037612   2.958909    1.0\n",
       "4   4.855842   2.916627    1.0"
      ]
     },
     "execution_count": 11,
     "metadata": {},
     "output_type": "execute_result"
    }
   ],
   "source": [
    "# First shuffle the labeled dataframe\n",
    "def shuffle(data, n):\n",
    "    ind = data.index\n",
    "    for i in range(n):\n",
    "       sampler = np.random.permutation(data.shape[0])\n",
    "       new_vals = data.take(sampler).values\n",
    "       data = pd.DataFrame(new_vals, index=ind)\n",
    "    return data\n",
    "\n",
    "df = shuffle(df, 1)\n",
    "df.columns = ['feature_a', 'feature_b','class']\n",
    "df.head()"
   ]
  },
  {
   "cell_type": "code",
   "execution_count": 12,
   "metadata": {},
   "outputs": [
    {
     "data": {
      "text/plain": [
       "        feature_a   feature_b\n",
       "count  150.000000  150.000000\n",
       "mean     3.655983    4.177371\n",
       "std      1.962922    2.535144\n",
       "min      0.008037    0.066442\n",
       "25%      2.079573    2.370924\n",
       "50%      3.680995    3.871139\n",
       "75%      5.291896    6.153172\n",
       "max      7.648236    8.783031"
      ]
     },
     "execution_count": 12,
     "metadata": {},
     "output_type": "execute_result"
    }
   ],
   "source": [
    "# Create a training set of 3/4 of the data\n",
    "train_n = 150\n",
    "\n",
    "train_features = df[['feature_a', 'feature_b']][:train_n]\n",
    "train_labels = df['class'][:train_n]\n",
    "train_features.describe()"
   ]
  },
  {
   "cell_type": "code",
   "execution_count": 13,
   "metadata": {},
   "outputs": [
    {
     "data": {
      "text/plain": [
       "count    150.000000\n",
       "mean       1.493333\n",
       "std        0.501630\n",
       "min        1.000000\n",
       "25%        1.000000\n",
       "50%        1.000000\n",
       "75%        2.000000\n",
       "max        2.000000\n",
       "Name: class, dtype: float64"
      ]
     },
     "execution_count": 13,
     "metadata": {},
     "output_type": "execute_result"
    }
   ],
   "source": [
    "train_labels.describe()"
   ]
  },
  {
   "cell_type": "code",
   "execution_count": 14,
   "metadata": {},
   "outputs": [
    {
     "data": {
      "text/plain": [
       "       feature_a  feature_b\n",
       "count  50.000000  50.000000\n",
       "mean    3.827362   4.273892\n",
       "std     1.871093   2.165624\n",
       "min     0.328415   0.361118\n",
       "25%     2.530497   2.892279\n",
       "50%     3.772753   4.135523\n",
       "75%     5.129358   5.563782\n",
       "max     7.517723   8.743283"
      ]
     },
     "execution_count": 14,
     "metadata": {},
     "output_type": "execute_result"
    }
   ],
   "source": [
    "# Create a test set of 1/4 of the data to evaluate the classifier\n",
    "test_features = df[['feature_a', 'feature_b']][train_n:]\n",
    "test_labels = df['class'][train_n:]\n",
    "test_features.describe()"
   ]
  },
  {
   "cell_type": "code",
   "execution_count": 16,
   "metadata": {},
   "outputs": [
    {
     "data": {
      "text/plain": [
       "array([2.])"
      ]
     },
     "execution_count": 16,
     "metadata": {},
     "output_type": "execute_result"
    }
   ],
   "source": [
    "# Train a Gaussian Naive Bayes Classifier\n",
    "from sklearn.naive_bayes import GaussianNB\n",
    "clf = GaussianNB()\n",
    "clf.fit(train_features, train_labels)\n",
    "clf.predict([[4.8, 4.2]])"
   ]
  },
  {
   "cell_type": "code",
   "execution_count": 17,
   "metadata": {},
   "outputs": [
    {
     "name": "stdout",
     "output_type": "stream",
     "text": [
      "0.9\n"
     ]
    }
   ],
   "source": [
    "# Query the accuracy of the model with the test set\n",
    "accuracy = clf.score(test_features, test_labels)\n",
    "print(accuracy)"
   ]
  },
  {
   "cell_type": "code",
   "execution_count": 18,
   "metadata": {},
   "outputs": [
    {
     "name": "stdout",
     "output_type": "stream",
     "text": [
      "0.9\n"
     ]
    }
   ],
   "source": [
    "# Another, more generic, way to calculate accuracy in scikit-learn\n",
    "from sklearn.metrics import accuracy_score\n",
    "print(accuracy_score(clf.predict(test_features), test_labels))"
   ]
  },
  {
   "cell_type": "code",
   "execution_count": 19,
   "metadata": {},
   "outputs": [
    {
     "data": {
      "image/png": "[encoded data removed]",
      "text/plain": [
       "<Figure size 432x288 with 1 Axes>"
      ]
     },
     "metadata": {},
     "output_type": "display_data"
    },
    {
     "data": {
      "image/png": "[encoded data removed]",
      "text/plain": [
       "<Figure size 432x288 with 1 Axes>"
      ]
     },
     "metadata": {},
     "output_type": "display_data"
    }
   ],
   "source": [
    "def plot_decision_surface(clf, features, labels, title):\n",
    "    x_min = 0.0; x_max = 8.0\n",
    "    y_min = 0.0; y_max = 8.0\n",
    "\n",
    "    # Plot the decision boundary. For that, we will assign a color to each\n",
    "    # point in the mesh [x_min, m_max]x[y_min, y_max].\n",
    "    h = .01  # step size in the mesh\n",
    "    xx, yy = np.meshgrid(np.arange(x_min, x_max, h), np.arange(y_min, y_max, h))\n",
    "    Z = clf.predict(np.c_[xx.ravel(), yy.ravel()])   \n",
    "    z_min, z_max = -np.abs(Z).max(), np.abs(Z).max()\n",
    "    \n",
    "    # set title\n",
    "    f, ax = plt.subplots()\n",
    "    ax.set_title(title)\n",
    "\n",
    "    # Put the result into a color plot\n",
    "    Z = Z.reshape(xx.shape)\n",
    "    plt.xlim(xx.min(), xx.max())\n",
    "    plt.ylim(yy.min(), yy.max())\n",
    "    plt.pcolormesh(xx, yy, Z, cmap='gray', vmin=.2, vmax=2.4)  # \n",
    "\n",
    "    # Plot the points\n",
    "    class_1_x = [features[ii][0] for ii in range(0, len(features)) if labels[ii]==1]\n",
    "    class_1_y = [features[ii][1] for ii in range(0, len(features)) if labels[ii]==1]\n",
    "    class_2_x = [features[ii][0] for ii in range(0, len(features)) if labels[ii]==2]\n",
    "    class_2_y = [features[ii][1] for ii in range(0, len(features)) if labels[ii]==2]\n",
    "\n",
    "    plt.scatter(class_1_x, class_1_y, color = '#F5CA0C', label=\"1\", s=40)\n",
    "    plt.scatter(class_2_x, class_2_y, color = '#00A99D', label=\"2\", s=40)\n",
    "   \n",
    "    plt.xlabel(\"feature_a\")\n",
    "    plt.ylabel(\"feature_b\")\n",
    "    plt.legend(('class 1', 'class 2'), frameon=True)\n",
    "    \n",
    "    \n",
    "# Plot the decision surface and data point for training and tests data\n",
    "plot_decision_surface(clf, train_features.values, train_labels.values, \n",
    "                      'Training data')\n",
    "plot_decision_surface(clf, test_features.values, test_labels.values,\n",
    "                      'Test data')"
   ]
  },
  {
   "cell_type": "code",
   "execution_count": null,
   "metadata": {},
   "outputs": [],
   "source": []
  }
 ],
 "metadata": {
  "kernelspec": {
   "display_name": "Python 3",
   "language": "python",
   "name": "python3"
  },
  "language_info": {
   "codemirror_mode": {
    "name": "ipython",
    "version": 3
   },
   "file_extension": ".py",
   "mimetype": "text/x-python",
   "name": "python",
   "nbconvert_exporter": "python",
   "pygments_lexer": "ipython3",
   "version": "3.6.5"
  }
 },
 "nbformat": 4,
 "nbformat_minor": 1
}
